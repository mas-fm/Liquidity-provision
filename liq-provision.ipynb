{
 "cells": [
  {
   "cell_type": "code",
   "execution_count": 475,
   "metadata": {},
   "outputs": [],
   "source": [
    "import pandas as pd\n",
    "import numpy as np\n",
    "from numpy import array\n",
    "from numpy import mean\n",
    "from numpy import cov\n",
    "from persiantools.jdatetime import JalaliDate\n",
    "import matplotlib.pyplot as plt\n",
    "import finpy_tse as fpy\n",
    "import finpy_tse as tse\n",
    "import matplotlib.pyplot as plt\n",
    "import glob\n",
    "import statistics\n",
    "import random"
   ]
  },
  {
   "cell_type": "code",
   "execution_count": 476,
   "metadata": {},
   "outputs": [],
   "source": [
    "DF=pd.read_excel('data.xlsx') "
   ]
  },
  {
   "cell_type": "code",
   "execution_count": 477,
   "metadata": {},
   "outputs": [
    {
     "data": {
      "text/html": [
       "<div>\n",
       "<style scoped>\n",
       "    .dataframe tbody tr th:only-of-type {\n",
       "        vertical-align: middle;\n",
       "    }\n",
       "\n",
       "    .dataframe tbody tr th {\n",
       "        vertical-align: top;\n",
       "    }\n",
       "\n",
       "    .dataframe thead th {\n",
       "        text-align: right;\n",
       "    }\n",
       "</style>\n",
       "<table border=\"1\" class=\"dataframe\">\n",
       "  <thead>\n",
       "    <tr style=\"text-align: right;\">\n",
       "      <th>دوره مالی</th>\n",
       "      <th>تاریخ انتشار</th>\n",
       "      <th>دارایی ها</th>\n",
       "      <th>داراییهای ثابت مشهود</th>\n",
       "      <th>داراییهای نامشهود</th>\n",
       "      <th>طلب از شرکت های گروه و وابسته</th>\n",
       "      <th>سرمایه گذاری در اوراق بهادار</th>\n",
       "      <th>سایر حسابها و اسناد دریافتنی</th>\n",
       "      <th>سایر دارایی ها</th>\n",
       "      <th>مطالبات از دولت</th>\n",
       "      <th>تسهیلات اعطایی به سایر اشخاص</th>\n",
       "      <th>...</th>\n",
       "      <th>سایر بدهی‌ها</th>\n",
       "      <th>ذخیره مالیات بر درامد</th>\n",
       "      <th>سود سهام پیشنهادی و پرداختنی</th>\n",
       "      <th>اوراق بدهی</th>\n",
       "      <th>سپرده های مشتریان</th>\n",
       "      <th>بدهی به بانکها و موسسات اعتباری</th>\n",
       "      <th>جمع بدهی های قبل از حقوق صاحبان سپرده های سرمایه گذاری</th>\n",
       "      <th>سپرده های سرمایه گذاری مدت دار</th>\n",
       "      <th>جمع بدهیهای جاری و غیر جاری</th>\n",
       "      <th>جمع بدهیها و حقوق صاحبان سهام</th>\n",
       "    </tr>\n",
       "  </thead>\n",
       "  <tbody>\n",
       "    <tr>\n",
       "      <th>1395</th>\n",
       "      <td>1397-05-29 (8)</td>\n",
       "      <td>NaN</td>\n",
       "      <td>62315533</td>\n",
       "      <td>829147</td>\n",
       "      <td>-</td>\n",
       "      <td>36853168</td>\n",
       "      <td>107703699</td>\n",
       "      <td>63854271</td>\n",
       "      <td>281602327</td>\n",
       "      <td>482236279</td>\n",
       "      <td>...</td>\n",
       "      <td>93487322</td>\n",
       "      <td>0</td>\n",
       "      <td>554035</td>\n",
       "      <td>-</td>\n",
       "      <td>187948887</td>\n",
       "      <td>15537910</td>\n",
       "      <td>-</td>\n",
       "      <td>769176731</td>\n",
       "      <td>1158183302</td>\n",
       "      <td>1202595668</td>\n",
       "    </tr>\n",
       "    <tr>\n",
       "      <th>1396</th>\n",
       "      <td>1398-04-25 (10)</td>\n",
       "      <td>NaN</td>\n",
       "      <td>60406040</td>\n",
       "      <td>983071</td>\n",
       "      <td>-</td>\n",
       "      <td>46418510</td>\n",
       "      <td>81507039</td>\n",
       "      <td>80695177</td>\n",
       "      <td>336787839</td>\n",
       "      <td>546662828</td>\n",
       "      <td>...</td>\n",
       "      <td>112250444</td>\n",
       "      <td>0</td>\n",
       "      <td>365581</td>\n",
       "      <td>-</td>\n",
       "      <td>223007085</td>\n",
       "      <td>27453117</td>\n",
       "      <td>-</td>\n",
       "      <td>885940180</td>\n",
       "      <td>1388019870</td>\n",
       "      <td>1345745625</td>\n",
       "    </tr>\n",
       "    <tr>\n",
       "      <th>1397</th>\n",
       "      <td>1399-05-15 (8)</td>\n",
       "      <td>NaN</td>\n",
       "      <td>146805063</td>\n",
       "      <td>9641631</td>\n",
       "      <td>-</td>\n",
       "      <td>130287252</td>\n",
       "      <td>101951751</td>\n",
       "      <td>111275276</td>\n",
       "      <td>402923136</td>\n",
       "      <td>688013358</td>\n",
       "      <td>...</td>\n",
       "      <td>133109220</td>\n",
       "      <td>0</td>\n",
       "      <td>0</td>\n",
       "      <td>-</td>\n",
       "      <td>389306586</td>\n",
       "      <td>33957382</td>\n",
       "      <td>-</td>\n",
       "      <td>1039572033</td>\n",
       "      <td>1783903912</td>\n",
       "      <td>1918279845</td>\n",
       "    </tr>\n",
       "    <tr>\n",
       "      <th>1398</th>\n",
       "      <td>1400-04-23 (9)</td>\n",
       "      <td>NaN</td>\n",
       "      <td>135596141</td>\n",
       "      <td>9649514</td>\n",
       "      <td>29974623</td>\n",
       "      <td>123808559</td>\n",
       "      <td>160071527</td>\n",
       "      <td>88856860</td>\n",
       "      <td>464515556</td>\n",
       "      <td>878270498</td>\n",
       "      <td>...</td>\n",
       "      <td>224950325</td>\n",
       "      <td>30578501</td>\n",
       "      <td>0</td>\n",
       "      <td>0</td>\n",
       "      <td>690120132</td>\n",
       "      <td>115254822</td>\n",
       "      <td>1081135135</td>\n",
       "      <td>1292527960</td>\n",
       "      <td>2373663095</td>\n",
       "      <td>2482112323</td>\n",
       "    </tr>\n",
       "    <tr>\n",
       "      <th>1399</th>\n",
       "      <td>1400-10-29 (7)</td>\n",
       "      <td>NaN</td>\n",
       "      <td>144729947</td>\n",
       "      <td>9793599</td>\n",
       "      <td>57809878</td>\n",
       "      <td>511562263</td>\n",
       "      <td>219637243</td>\n",
       "      <td>108425617</td>\n",
       "      <td>477370991</td>\n",
       "      <td>1530397632</td>\n",
       "      <td>...</td>\n",
       "      <td>330181900</td>\n",
       "      <td>65203303</td>\n",
       "      <td>362818</td>\n",
       "      <td>0</td>\n",
       "      <td>1125884052</td>\n",
       "      <td>79919832</td>\n",
       "      <td>-</td>\n",
       "      <td>1982133432</td>\n",
       "      <td>3632548983</td>\n",
       "      <td>3894476476</td>\n",
       "    </tr>\n",
       "  </tbody>\n",
       "</table>\n",
       "<p>5 rows × 39 columns</p>\n",
       "</div>"
      ],
      "text/plain": [
       "دوره مالی     تاریخ انتشار دارایی ها داراییهای ثابت مشهود داراییهای نامشهود  \\\n",
       "1395        1397-05-29 (8)       NaN             62315533            829147   \n",
       "1396       1398-04-25 (10)       NaN             60406040            983071   \n",
       "1397        1399-05-15 (8)       NaN            146805063           9641631   \n",
       "1398        1400-04-23 (9)       NaN            135596141           9649514   \n",
       "1399        1400-10-29 (7)       NaN            144729947           9793599   \n",
       "\n",
       "دوره مالی طلب از شرکت های گروه و وابسته سرمایه گذاری در اوراق بهادار  \\\n",
       "1395                                  -                     36853168   \n",
       "1396                                  -                     46418510   \n",
       "1397                                  -                    130287252   \n",
       "1398                           29974623                    123808559   \n",
       "1399                           57809878                    511562263   \n",
       "\n",
       "دوره مالی سایر حسابها و اسناد دریافتنی سایر دارایی ها مطالبات از دولت  \\\n",
       "1395                         107703699       63854271       281602327   \n",
       "1396                          81507039       80695177       336787839   \n",
       "1397                         101951751      111275276       402923136   \n",
       "1398                         160071527       88856860       464515556   \n",
       "1399                         219637243      108425617       477370991   \n",
       "\n",
       "دوره مالی تسهیلات اعطایی به سایر اشخاص  ... سایر بدهی‌ها  \\\n",
       "1395                         482236279  ...     93487322   \n",
       "1396                         546662828  ...    112250444   \n",
       "1397                         688013358  ...    133109220   \n",
       "1398                         878270498  ...    224950325   \n",
       "1399                        1530397632  ...    330181900   \n",
       "\n",
       "دوره مالی ذخیره مالیات بر درامد سود سهام پیشنهادی و پرداختنی اوراق بدهی  \\\n",
       "1395                          0                       554035          -   \n",
       "1396                          0                       365581          -   \n",
       "1397                          0                            0          -   \n",
       "1398                   30578501                            0          0   \n",
       "1399                   65203303                       362818          0   \n",
       "\n",
       "دوره مالی سپرده های مشتریان بدهی به بانکها و موسسات اعتباری  \\\n",
       "1395              187948887                        15537910   \n",
       "1396              223007085                        27453117   \n",
       "1397              389306586                        33957382   \n",
       "1398              690120132                       115254822   \n",
       "1399             1125884052                        79919832   \n",
       "\n",
       "دوره مالی جمع بدهی های قبل از حقوق صاحبان سپرده های سرمایه گذاری  \\\n",
       "1395                                                       -       \n",
       "1396                                                       -       \n",
       "1397                                                       -       \n",
       "1398                                              1081135135       \n",
       "1399                                                       -       \n",
       "\n",
       "دوره مالی سپرده های سرمایه گذاری مدت دار جمع بدهیهای جاری و غیر جاری  \\\n",
       "1395                           769176731                  1158183302   \n",
       "1396                           885940180                  1388019870   \n",
       "1397                          1039572033                  1783903912   \n",
       "1398                          1292527960                  2373663095   \n",
       "1399                          1982133432                  3632548983   \n",
       "\n",
       "دوره مالی جمع بدهیها و حقوق صاحبان سهام  \n",
       "1395                         1202595668  \n",
       "1396                         1345745625  \n",
       "1397                         1918279845  \n",
       "1398                         2482112323  \n",
       "1399                         3894476476  \n",
       "\n",
       "[5 rows x 39 columns]"
      ]
     },
     "execution_count": 477,
     "metadata": {},
     "output_type": "execute_result"
    }
   ],
   "source": [
    "df=DF.set_index(DF['دوره مالی'])\n",
    "df=df.drop(columns='دوره مالی')\n",
    "df=df.drop(columns='Unnamed: 1')\n",
    "df.T"
   ]
  },
  {
   "cell_type": "code",
   "execution_count": 478,
   "metadata": {},
   "outputs": [
    {
     "data": {
      "text/html": [
       "<div>\n",
       "<style scoped>\n",
       "    .dataframe tbody tr th:only-of-type {\n",
       "        vertical-align: middle;\n",
       "    }\n",
       "\n",
       "    .dataframe tbody tr th {\n",
       "        vertical-align: top;\n",
       "    }\n",
       "\n",
       "    .dataframe thead th {\n",
       "        text-align: right;\n",
       "    }\n",
       "</style>\n",
       "<table border=\"1\" class=\"dataframe\">\n",
       "  <thead>\n",
       "    <tr style=\"text-align: right;\">\n",
       "      <th>دوره مالی</th>\n",
       "      <th>تاریخ انتشار</th>\n",
       "      <th>دارایی ها</th>\n",
       "      <th>داراییهای ثابت مشهود</th>\n",
       "      <th>داراییهای نامشهود</th>\n",
       "      <th>طلب از شرکت های گروه و وابسته</th>\n",
       "      <th>سرمایه گذاری در اوراق بهادار</th>\n",
       "      <th>سایر حسابها و اسناد دریافتنی</th>\n",
       "      <th>سایر دارایی ها</th>\n",
       "      <th>مطالبات از دولت</th>\n",
       "      <th>تسهیلات اعطایی به سایر اشخاص</th>\n",
       "      <th>...</th>\n",
       "      <th>سایر بدهی‌ها</th>\n",
       "      <th>ذخیره مالیات بر درامد</th>\n",
       "      <th>سود سهام پیشنهادی و پرداختنی</th>\n",
       "      <th>اوراق بدهی</th>\n",
       "      <th>سپرده های مشتریان</th>\n",
       "      <th>بدهی به بانکها و موسسات اعتباری</th>\n",
       "      <th>جمع بدهی های قبل از حقوق صاحبان سپرده های سرمایه گذاری</th>\n",
       "      <th>سپرده های سرمایه گذاری مدت دار</th>\n",
       "      <th>جمع بدهیهای جاری و غیر جاری</th>\n",
       "      <th>جمع بدهیها و حقوق صاحبان سهام</th>\n",
       "    </tr>\n",
       "  </thead>\n",
       "  <tbody>\n",
       "    <tr>\n",
       "      <th>1395</th>\n",
       "      <td>1397-05-29 (8)</td>\n",
       "      <td>NaN</td>\n",
       "      <td>62315533</td>\n",
       "      <td>829147</td>\n",
       "      <td>0</td>\n",
       "      <td>36853168</td>\n",
       "      <td>107703699</td>\n",
       "      <td>63854271</td>\n",
       "      <td>281602327</td>\n",
       "      <td>482236279</td>\n",
       "      <td>...</td>\n",
       "      <td>93487322</td>\n",
       "      <td>0</td>\n",
       "      <td>554035</td>\n",
       "      <td>0</td>\n",
       "      <td>187948887</td>\n",
       "      <td>15537910</td>\n",
       "      <td>0</td>\n",
       "      <td>769176731</td>\n",
       "      <td>1158183302</td>\n",
       "      <td>1202595668</td>\n",
       "    </tr>\n",
       "    <tr>\n",
       "      <th>1396</th>\n",
       "      <td>1398-04-25 (10)</td>\n",
       "      <td>NaN</td>\n",
       "      <td>60406040</td>\n",
       "      <td>983071</td>\n",
       "      <td>0</td>\n",
       "      <td>46418510</td>\n",
       "      <td>81507039</td>\n",
       "      <td>80695177</td>\n",
       "      <td>336787839</td>\n",
       "      <td>546662828</td>\n",
       "      <td>...</td>\n",
       "      <td>112250444</td>\n",
       "      <td>0</td>\n",
       "      <td>365581</td>\n",
       "      <td>0</td>\n",
       "      <td>223007085</td>\n",
       "      <td>27453117</td>\n",
       "      <td>0</td>\n",
       "      <td>885940180</td>\n",
       "      <td>1388019870</td>\n",
       "      <td>1345745625</td>\n",
       "    </tr>\n",
       "    <tr>\n",
       "      <th>1397</th>\n",
       "      <td>1399-05-15 (8)</td>\n",
       "      <td>NaN</td>\n",
       "      <td>146805063</td>\n",
       "      <td>9641631</td>\n",
       "      <td>0</td>\n",
       "      <td>130287252</td>\n",
       "      <td>101951751</td>\n",
       "      <td>111275276</td>\n",
       "      <td>402923136</td>\n",
       "      <td>688013358</td>\n",
       "      <td>...</td>\n",
       "      <td>133109220</td>\n",
       "      <td>0</td>\n",
       "      <td>0</td>\n",
       "      <td>0</td>\n",
       "      <td>389306586</td>\n",
       "      <td>33957382</td>\n",
       "      <td>0</td>\n",
       "      <td>1039572033</td>\n",
       "      <td>1783903912</td>\n",
       "      <td>1918279845</td>\n",
       "    </tr>\n",
       "    <tr>\n",
       "      <th>1398</th>\n",
       "      <td>1400-04-23 (9)</td>\n",
       "      <td>NaN</td>\n",
       "      <td>135596141</td>\n",
       "      <td>9649514</td>\n",
       "      <td>29974623</td>\n",
       "      <td>123808559</td>\n",
       "      <td>160071527</td>\n",
       "      <td>88856860</td>\n",
       "      <td>464515556</td>\n",
       "      <td>878270498</td>\n",
       "      <td>...</td>\n",
       "      <td>224950325</td>\n",
       "      <td>30578501</td>\n",
       "      <td>0</td>\n",
       "      <td>0</td>\n",
       "      <td>690120132</td>\n",
       "      <td>115254822</td>\n",
       "      <td>1081135135</td>\n",
       "      <td>1292527960</td>\n",
       "      <td>2373663095</td>\n",
       "      <td>2482112323</td>\n",
       "    </tr>\n",
       "    <tr>\n",
       "      <th>1399</th>\n",
       "      <td>1400-10-29 (7)</td>\n",
       "      <td>NaN</td>\n",
       "      <td>144729947</td>\n",
       "      <td>9793599</td>\n",
       "      <td>57809878</td>\n",
       "      <td>511562263</td>\n",
       "      <td>219637243</td>\n",
       "      <td>108425617</td>\n",
       "      <td>477370991</td>\n",
       "      <td>1530397632</td>\n",
       "      <td>...</td>\n",
       "      <td>330181900</td>\n",
       "      <td>65203303</td>\n",
       "      <td>362818</td>\n",
       "      <td>0</td>\n",
       "      <td>1125884052</td>\n",
       "      <td>79919832</td>\n",
       "      <td>0</td>\n",
       "      <td>1982133432</td>\n",
       "      <td>3632548983</td>\n",
       "      <td>3894476476</td>\n",
       "    </tr>\n",
       "  </tbody>\n",
       "</table>\n",
       "<p>5 rows × 39 columns</p>\n",
       "</div>"
      ],
      "text/plain": [
       "دوره مالی     تاریخ انتشار  دارایی ها  داراییهای ثابت مشهود  \\\n",
       "1395        1397-05-29 (8)        NaN              62315533   \n",
       "1396       1398-04-25 (10)        NaN              60406040   \n",
       "1397        1399-05-15 (8)        NaN             146805063   \n",
       "1398        1400-04-23 (9)        NaN             135596141   \n",
       "1399        1400-10-29 (7)        NaN             144729947   \n",
       "\n",
       "دوره مالی  داراییهای نامشهود  طلب از شرکت های گروه و وابسته  \\\n",
       "1395                  829147                              0   \n",
       "1396                  983071                              0   \n",
       "1397                 9641631                              0   \n",
       "1398                 9649514                       29974623   \n",
       "1399                 9793599                       57809878   \n",
       "\n",
       "دوره مالی  سرمایه گذاری در اوراق بهادار  سایر حسابها و اسناد دریافتنی  \\\n",
       "1395                           36853168                     107703699   \n",
       "1396                           46418510                      81507039   \n",
       "1397                          130287252                     101951751   \n",
       "1398                          123808559                     160071527   \n",
       "1399                          511562263                     219637243   \n",
       "\n",
       "دوره مالی  سایر دارایی ها  مطالبات از دولت  تسهیلات اعطایی به سایر اشخاص  ...  \\\n",
       "1395             63854271        281602327                     482236279  ...   \n",
       "1396             80695177        336787839                     546662828  ...   \n",
       "1397            111275276        402923136                     688013358  ...   \n",
       "1398             88856860        464515556                     878270498  ...   \n",
       "1399            108425617        477370991                    1530397632  ...   \n",
       "\n",
       "دوره مالی  سایر بدهی‌ها  ذخیره مالیات بر درامد  سود سهام پیشنهادی و پرداختنی  \\\n",
       "1395           93487322                      0                        554035   \n",
       "1396          112250444                      0                        365581   \n",
       "1397          133109220                      0                             0   \n",
       "1398          224950325               30578501                             0   \n",
       "1399          330181900               65203303                        362818   \n",
       "\n",
       "دوره مالی  اوراق بدهی  سپرده های مشتریان  بدهی به بانکها و موسسات اعتباری  \\\n",
       "1395                0          187948887                         15537910   \n",
       "1396                0          223007085                         27453117   \n",
       "1397                0          389306586                         33957382   \n",
       "1398                0          690120132                        115254822   \n",
       "1399                0         1125884052                         79919832   \n",
       "\n",
       "دوره مالی  جمع بدهی های قبل از حقوق صاحبان سپرده های سرمایه گذاری  \\\n",
       "1395                                                       0        \n",
       "1396                                                       0        \n",
       "1397                                                       0        \n",
       "1398                                              1081135135        \n",
       "1399                                                       0        \n",
       "\n",
       "دوره مالی  سپرده های سرمایه گذاری مدت دار  جمع بدهیهای جاری و غیر جاری  \\\n",
       "1395                            769176731                   1158183302   \n",
       "1396                            885940180                   1388019870   \n",
       "1397                           1039572033                   1783903912   \n",
       "1398                           1292527960                   2373663095   \n",
       "1399                           1982133432                   3632548983   \n",
       "\n",
       "دوره مالی  جمع بدهیها و حقوق صاحبان سهام  \n",
       "1395                          1202595668  \n",
       "1396                          1345745625  \n",
       "1397                          1918279845  \n",
       "1398                          2482112323  \n",
       "1399                          3894476476  \n",
       "\n",
       "[5 rows x 39 columns]"
      ]
     },
     "execution_count": 478,
     "metadata": {},
     "output_type": "execute_result"
    }
   ],
   "source": [
    "a=df.T\n",
    "a=a.replace('-',0)\n",
    "a"
   ]
  },
  {
   "cell_type": "code",
   "execution_count": 479,
   "metadata": {},
   "outputs": [
    {
     "data": {
      "text/plain": [
       "1395    554035\n",
       "1396    365581\n",
       "1397         0\n",
       "1398         0\n",
       "1399    362818\n",
       "Name: سود سهام پیشنهادی و پرداختنی, dtype: int64"
      ]
     },
     "execution_count": 479,
     "metadata": {},
     "output_type": "execute_result"
    }
   ],
   "source": [
    "a['سود سهام پیشنهادی و پرداختنی']"
   ]
  },
  {
   "cell_type": "code",
   "execution_count": 480,
   "metadata": {},
   "outputs": [
    {
     "data": {
      "text/plain": [
       "<matplotlib.axes._subplots.AxesSubplot at 0x20ce39fc3c8>"
      ]
     },
     "execution_count": 480,
     "metadata": {},
     "output_type": "execute_result"
    },
    {
     "data": {
      "image/png": "[encoded data removed]",
      "text/plain": [
       "<Figure size 432x288 with 1 Axes>"
      ]
     },
     "metadata": {
      "needs_background": "light"
     },
     "output_type": "display_data"
    }
   ],
   "source": [
    "a['جمع داراییها'].plot()"
   ]
  },
  {
   "cell_type": "code",
   "execution_count": 481,
   "metadata": {},
   "outputs": [],
   "source": [
    "onwan=DF['دوره مالی']\n",
    "asset=[]\n",
    "for i in range(2,14):\n",
    "    asset.append(onwan[i])"
   ]
  },
  {
   "cell_type": "code",
   "execution_count": 482,
   "metadata": {},
   "outputs": [],
   "source": [
    "debt=[]\n",
    "for i in range(28,37):\n",
    "    debt.append(onwan[i])"
   ]
  },
  {
   "cell_type": "code",
   "execution_count": 483,
   "metadata": {},
   "outputs": [],
   "source": [
    "saheban=[]\n",
    "for i in range(16,26):\n",
    "    saheban.append(onwan[i])"
   ]
  },
  {
   "cell_type": "code",
   "execution_count": 484,
   "metadata": {},
   "outputs": [],
   "source": [
    "ass=pd.DataFrame(asset)\n"
   ]
  },
  {
   "cell_type": "code",
   "execution_count": 485,
   "metadata": {},
   "outputs": [],
   "source": [
    "illi=[]\n",
    "for i in range(0,5):\n",
    "    illi.append(asset[i])\n"
   ]
  },
  {
   "cell_type": "code",
   "execution_count": 486,
   "metadata": {},
   "outputs": [],
   "source": [
    "liq=[]\n",
    "for i in range(6,12):\n",
    "    liq.append(asset[i])\n"
   ]
  },
  {
   "cell_type": "code",
   "execution_count": 487,
   "metadata": {},
   "outputs": [
    {
     "data": {
      "text/plain": [
       "['مطالبات از دولت',\n",
       " 'تسهیلات اعطایی به سایر اشخاص',\n",
       " 'تسهیلات اعطایی و مطالبات از اشخاص دولتی',\n",
       " 'مطالبات از سایر بانکها و موسسات اعتباری',\n",
       " 'سپرده قانونی',\n",
       " 'موجودی نقد']"
      ]
     },
     "execution_count": 487,
     "metadata": {},
     "output_type": "execute_result"
    }
   ],
   "source": [
    "liq"
   ]
  },
  {
   "cell_type": "code",
   "execution_count": 488,
   "metadata": {},
   "outputs": [
    {
     "data": {
      "text/html": [
       "<div>\n",
       "<style scoped>\n",
       "    .dataframe tbody tr th:only-of-type {\n",
       "        vertical-align: middle;\n",
       "    }\n",
       "\n",
       "    .dataframe tbody tr th {\n",
       "        vertical-align: top;\n",
       "    }\n",
       "\n",
       "    .dataframe thead th {\n",
       "        text-align: right;\n",
       "    }\n",
       "</style>\n",
       "<table border=\"1\" class=\"dataframe\">\n",
       "  <thead>\n",
       "    <tr style=\"text-align: right;\">\n",
       "      <th></th>\n",
       "      <th>0</th>\n",
       "    </tr>\n",
       "  </thead>\n",
       "  <tbody>\n",
       "    <tr>\n",
       "      <th>0</th>\n",
       "      <td>ذخیره مزایای پایان خدمت</td>\n",
       "    </tr>\n",
       "    <tr>\n",
       "      <th>1</th>\n",
       "      <td>سایر بدهی‌ها</td>\n",
       "    </tr>\n",
       "    <tr>\n",
       "      <th>2</th>\n",
       "      <td>ذخیره مالیات بر درامد</td>\n",
       "    </tr>\n",
       "    <tr>\n",
       "      <th>3</th>\n",
       "      <td>سود سهام پیشنهادی و پرداختنی</td>\n",
       "    </tr>\n",
       "    <tr>\n",
       "      <th>4</th>\n",
       "      <td>اوراق بدهی</td>\n",
       "    </tr>\n",
       "    <tr>\n",
       "      <th>5</th>\n",
       "      <td>سپرده های مشتریان</td>\n",
       "    </tr>\n",
       "    <tr>\n",
       "      <th>6</th>\n",
       "      <td>بدهی به بانکها و موسسات اعتباری</td>\n",
       "    </tr>\n",
       "    <tr>\n",
       "      <th>7</th>\n",
       "      <td>جمع بدهی های قبل از حقوق صاحبان سپرده های سرما...</td>\n",
       "    </tr>\n",
       "    <tr>\n",
       "      <th>8</th>\n",
       "      <td>سپرده های سرمایه گذاری مدت دار</td>\n",
       "    </tr>\n",
       "  </tbody>\n",
       "</table>\n",
       "</div>"
      ],
      "text/plain": [
       "                                                   0\n",
       "0                            ذخیره مزایای پایان خدمت\n",
       "1                                       سایر بدهی‌ها\n",
       "2                              ذخیره مالیات بر درامد\n",
       "3                       سود سهام پیشنهادی و پرداختنی\n",
       "4                                         اوراق بدهی\n",
       "5                                  سپرده های مشتریان\n",
       "6                    بدهی به بانکها و موسسات اعتباری\n",
       "7  جمع بدهی های قبل از حقوق صاحبان سپرده های سرما...\n",
       "8                     سپرده های سرمایه گذاری مدت دار"
      ]
     },
     "execution_count": 488,
     "metadata": {},
     "output_type": "execute_result"
    }
   ],
   "source": [
    "debt\n",
    "deb=pd.DataFrame(debt)\n",
    "deb"
   ]
  },
  {
   "cell_type": "code",
   "execution_count": 489,
   "metadata": {},
   "outputs": [],
   "source": [
    "illi_deb=[] #بدهی نقدنشونده\n",
    "for i in range(0,3):\n",
    "    illi_deb.append(debt[i])"
   ]
  },
  {
   "cell_type": "code",
   "execution_count": 490,
   "metadata": {},
   "outputs": [
    {
     "data": {
      "text/plain": [
       "['سود سهام پیشنهادی و پرداختنی',\n",
       " 'اوراق بدهی',\n",
       " 'سپرده های مشتریان',\n",
       " 'بدهی به بانکها و موسسات اعتباری',\n",
       " 'جمع بدهی های قبل از حقوق صاحبان سپرده های سرمایه گذاری',\n",
       " 'سپرده های سرمایه گذاری مدت دار']"
      ]
     },
     "execution_count": 490,
     "metadata": {},
     "output_type": "execute_result"
    }
   ],
   "source": [
    "liq_deb=[] #بدهی های نقد شونده\n",
    "for i in range(3,9):\n",
    "    liq_deb.append(debt[i])\n",
    "liq_deb"
   ]
  },
  {
   "cell_type": "code",
   "execution_count": 491,
   "metadata": {},
   "outputs": [
    {
     "data": {
      "text/html": [
       "<div>\n",
       "<style scoped>\n",
       "    .dataframe tbody tr th:only-of-type {\n",
       "        vertical-align: middle;\n",
       "    }\n",
       "\n",
       "    .dataframe tbody tr th {\n",
       "        vertical-align: top;\n",
       "    }\n",
       "\n",
       "    .dataframe thead th {\n",
       "        text-align: right;\n",
       "    }\n",
       "</style>\n",
       "<table border=\"1\" class=\"dataframe\">\n",
       "  <thead>\n",
       "    <tr style=\"text-align: right;\">\n",
       "      <th>دوره مالی</th>\n",
       "      <th>تاریخ انتشار</th>\n",
       "      <th>دارایی ها</th>\n",
       "      <th>داراییهای ثابت مشهود</th>\n",
       "      <th>داراییهای نامشهود</th>\n",
       "      <th>طلب از شرکت های گروه و وابسته</th>\n",
       "      <th>سرمایه گذاری در اوراق بهادار</th>\n",
       "      <th>سایر حسابها و اسناد دریافتنی</th>\n",
       "      <th>سایر دارایی ها</th>\n",
       "      <th>مطالبات از دولت</th>\n",
       "      <th>تسهیلات اعطایی به سایر اشخاص</th>\n",
       "      <th>...</th>\n",
       "      <th>ذخیره مالیات بر درامد</th>\n",
       "      <th>سود سهام پیشنهادی و پرداختنی</th>\n",
       "      <th>اوراق بدهی</th>\n",
       "      <th>سپرده های مشتریان</th>\n",
       "      <th>بدهی به بانکها و موسسات اعتباری</th>\n",
       "      <th>جمع بدهی های قبل از حقوق صاحبان سپرده های سرمایه گذاری</th>\n",
       "      <th>سپرده های سرمایه گذاری مدت دار</th>\n",
       "      <th>جمع بدهیهای جاری و غیر جاری</th>\n",
       "      <th>جمع بدهیها و حقوق صاحبان سهام</th>\n",
       "      <th>sal</th>\n",
       "    </tr>\n",
       "    <tr>\n",
       "      <th>sal</th>\n",
       "      <th></th>\n",
       "      <th></th>\n",
       "      <th></th>\n",
       "      <th></th>\n",
       "      <th></th>\n",
       "      <th></th>\n",
       "      <th></th>\n",
       "      <th></th>\n",
       "      <th></th>\n",
       "      <th></th>\n",
       "      <th></th>\n",
       "      <th></th>\n",
       "      <th></th>\n",
       "      <th></th>\n",
       "      <th></th>\n",
       "      <th></th>\n",
       "      <th></th>\n",
       "      <th></th>\n",
       "      <th></th>\n",
       "      <th></th>\n",
       "      <th></th>\n",
       "    </tr>\n",
       "  </thead>\n",
       "  <tbody>\n",
       "    <tr>\n",
       "      <th>1395</th>\n",
       "      <td>1397-05-29 (8)</td>\n",
       "      <td>NaN</td>\n",
       "      <td>62315533</td>\n",
       "      <td>829147</td>\n",
       "      <td>0</td>\n",
       "      <td>36853168</td>\n",
       "      <td>107703699</td>\n",
       "      <td>63854271</td>\n",
       "      <td>281602327</td>\n",
       "      <td>482236279</td>\n",
       "      <td>...</td>\n",
       "      <td>0</td>\n",
       "      <td>554035</td>\n",
       "      <td>0</td>\n",
       "      <td>187948887</td>\n",
       "      <td>15537910</td>\n",
       "      <td>0</td>\n",
       "      <td>769176731</td>\n",
       "      <td>1158183302</td>\n",
       "      <td>1202595668</td>\n",
       "      <td>1395</td>\n",
       "    </tr>\n",
       "    <tr>\n",
       "      <th>1396</th>\n",
       "      <td>1398-04-25 (10)</td>\n",
       "      <td>NaN</td>\n",
       "      <td>60406040</td>\n",
       "      <td>983071</td>\n",
       "      <td>0</td>\n",
       "      <td>46418510</td>\n",
       "      <td>81507039</td>\n",
       "      <td>80695177</td>\n",
       "      <td>336787839</td>\n",
       "      <td>546662828</td>\n",
       "      <td>...</td>\n",
       "      <td>0</td>\n",
       "      <td>365581</td>\n",
       "      <td>0</td>\n",
       "      <td>223007085</td>\n",
       "      <td>27453117</td>\n",
       "      <td>0</td>\n",
       "      <td>885940180</td>\n",
       "      <td>1388019870</td>\n",
       "      <td>1345745625</td>\n",
       "      <td>1396</td>\n",
       "    </tr>\n",
       "    <tr>\n",
       "      <th>1397</th>\n",
       "      <td>1399-05-15 (8)</td>\n",
       "      <td>NaN</td>\n",
       "      <td>146805063</td>\n",
       "      <td>9641631</td>\n",
       "      <td>0</td>\n",
       "      <td>130287252</td>\n",
       "      <td>101951751</td>\n",
       "      <td>111275276</td>\n",
       "      <td>402923136</td>\n",
       "      <td>688013358</td>\n",
       "      <td>...</td>\n",
       "      <td>0</td>\n",
       "      <td>0</td>\n",
       "      <td>0</td>\n",
       "      <td>389306586</td>\n",
       "      <td>33957382</td>\n",
       "      <td>0</td>\n",
       "      <td>1039572033</td>\n",
       "      <td>1783903912</td>\n",
       "      <td>1918279845</td>\n",
       "      <td>1397</td>\n",
       "    </tr>\n",
       "    <tr>\n",
       "      <th>1398</th>\n",
       "      <td>1400-04-23 (9)</td>\n",
       "      <td>NaN</td>\n",
       "      <td>135596141</td>\n",
       "      <td>9649514</td>\n",
       "      <td>29974623</td>\n",
       "      <td>123808559</td>\n",
       "      <td>160071527</td>\n",
       "      <td>88856860</td>\n",
       "      <td>464515556</td>\n",
       "      <td>878270498</td>\n",
       "      <td>...</td>\n",
       "      <td>30578501</td>\n",
       "      <td>0</td>\n",
       "      <td>0</td>\n",
       "      <td>690120132</td>\n",
       "      <td>115254822</td>\n",
       "      <td>1081135135</td>\n",
       "      <td>1292527960</td>\n",
       "      <td>2373663095</td>\n",
       "      <td>2482112323</td>\n",
       "      <td>1398</td>\n",
       "    </tr>\n",
       "    <tr>\n",
       "      <th>1399</th>\n",
       "      <td>1400-10-29 (7)</td>\n",
       "      <td>NaN</td>\n",
       "      <td>144729947</td>\n",
       "      <td>9793599</td>\n",
       "      <td>57809878</td>\n",
       "      <td>511562263</td>\n",
       "      <td>219637243</td>\n",
       "      <td>108425617</td>\n",
       "      <td>477370991</td>\n",
       "      <td>1530397632</td>\n",
       "      <td>...</td>\n",
       "      <td>65203303</td>\n",
       "      <td>362818</td>\n",
       "      <td>0</td>\n",
       "      <td>1125884052</td>\n",
       "      <td>79919832</td>\n",
       "      <td>0</td>\n",
       "      <td>1982133432</td>\n",
       "      <td>3632548983</td>\n",
       "      <td>3894476476</td>\n",
       "      <td>1399</td>\n",
       "    </tr>\n",
       "  </tbody>\n",
       "</table>\n",
       "<p>5 rows × 40 columns</p>\n",
       "</div>"
      ],
      "text/plain": [
       "دوره مالی     تاریخ انتشار  دارایی ها  داراییهای ثابت مشهود  \\\n",
       "sal                                                           \n",
       "1395        1397-05-29 (8)        NaN              62315533   \n",
       "1396       1398-04-25 (10)        NaN              60406040   \n",
       "1397        1399-05-15 (8)        NaN             146805063   \n",
       "1398        1400-04-23 (9)        NaN             135596141   \n",
       "1399        1400-10-29 (7)        NaN             144729947   \n",
       "\n",
       "دوره مالی  داراییهای نامشهود  طلب از شرکت های گروه و وابسته  \\\n",
       "sal                                                           \n",
       "1395                  829147                              0   \n",
       "1396                  983071                              0   \n",
       "1397                 9641631                              0   \n",
       "1398                 9649514                       29974623   \n",
       "1399                 9793599                       57809878   \n",
       "\n",
       "دوره مالی  سرمایه گذاری در اوراق بهادار  سایر حسابها و اسناد دریافتنی  \\\n",
       "sal                                                                     \n",
       "1395                           36853168                     107703699   \n",
       "1396                           46418510                      81507039   \n",
       "1397                          130287252                     101951751   \n",
       "1398                          123808559                     160071527   \n",
       "1399                          511562263                     219637243   \n",
       "\n",
       "دوره مالی  سایر دارایی ها  مطالبات از دولت  تسهیلات اعطایی به سایر اشخاص  ...  \\\n",
       "sal                                                                       ...   \n",
       "1395             63854271        281602327                     482236279  ...   \n",
       "1396             80695177        336787839                     546662828  ...   \n",
       "1397            111275276        402923136                     688013358  ...   \n",
       "1398             88856860        464515556                     878270498  ...   \n",
       "1399            108425617        477370991                    1530397632  ...   \n",
       "\n",
       "دوره مالی  ذخیره مالیات بر درامد  سود سهام پیشنهادی و پرداختنی  اوراق بدهی  \\\n",
       "sal                                                                          \n",
       "1395                           0                        554035           0   \n",
       "1396                           0                        365581           0   \n",
       "1397                           0                             0           0   \n",
       "1398                    30578501                             0           0   \n",
       "1399                    65203303                        362818           0   \n",
       "\n",
       "دوره مالی  سپرده های مشتریان  بدهی به بانکها و موسسات اعتباری  \\\n",
       "sal                                                             \n",
       "1395               187948887                         15537910   \n",
       "1396               223007085                         27453117   \n",
       "1397               389306586                         33957382   \n",
       "1398               690120132                        115254822   \n",
       "1399              1125884052                         79919832   \n",
       "\n",
       "دوره مالی  جمع بدهی های قبل از حقوق صاحبان سپرده های سرمایه گذاری  \\\n",
       "sal                                                                 \n",
       "1395                                                       0        \n",
       "1396                                                       0        \n",
       "1397                                                       0        \n",
       "1398                                              1081135135        \n",
       "1399                                                       0        \n",
       "\n",
       "دوره مالی  سپرده های سرمایه گذاری مدت دار  جمع بدهیهای جاری و غیر جاری  \\\n",
       "sal                                                                      \n",
       "1395                            769176731                   1158183302   \n",
       "1396                            885940180                   1388019870   \n",
       "1397                           1039572033                   1783903912   \n",
       "1398                           1292527960                   2373663095   \n",
       "1399                           1982133432                   3632548983   \n",
       "\n",
       "دوره مالی  جمع بدهیها و حقوق صاحبان سهام   sal  \n",
       "sal                                             \n",
       "1395                          1202595668  1395  \n",
       "1396                          1345745625  1396  \n",
       "1397                          1918279845  1397  \n",
       "1398                          2482112323  1398  \n",
       "1399                          3894476476  1399  \n",
       "\n",
       "[5 rows x 40 columns]"
      ]
     },
     "execution_count": 491,
     "metadata": {},
     "output_type": "execute_result"
    }
   ],
   "source": [
    "jj=a\n",
    "jj['sal']=['1395','1396','1397','1398','1399']\n",
    "jj.set_index(jj['sal'])"
   ]
  },
  {
   "cell_type": "code",
   "execution_count": 492,
   "metadata": {},
   "outputs": [],
   "source": [
    "liq_Deb = pd.DataFrame()\n",
    "for i in liq_deb:\n",
    "    liq_Deb[i]=a[i]\n",
    "    "
   ]
  },
  {
   "cell_type": "code",
   "execution_count": 493,
   "metadata": {},
   "outputs": [],
   "source": [
    "liq_Deb = pd.DataFrame()\n",
    "for i in liq_deb:\n",
    "    liq_Deb[i]=a[i]\n",
    "liq_Deb=liq_Deb.replace('-',0)\n",
    "liq_Deb=liq_Deb.T"
   ]
  },
  {
   "cell_type": "code",
   "execution_count": 494,
   "metadata": {},
   "outputs": [
    {
     "data": {
      "text/plain": [
       "3188300134"
      ]
     },
     "execution_count": 494,
     "metadata": {},
     "output_type": "execute_result"
    }
   ],
   "source": [
    "sld=liq_Deb.iloc[:,q].sum()\n",
    "sld"
   ]
  },
  {
   "cell_type": "code",
   "execution_count": 495,
   "metadata": {},
   "outputs": [
    {
     "data": {
      "text/html": [
       "<div>\n",
       "<style scoped>\n",
       "    .dataframe tbody tr th:only-of-type {\n",
       "        vertical-align: middle;\n",
       "    }\n",
       "\n",
       "    .dataframe tbody tr th {\n",
       "        vertical-align: top;\n",
       "    }\n",
       "\n",
       "    .dataframe thead th {\n",
       "        text-align: right;\n",
       "    }\n",
       "</style>\n",
       "<table border=\"1\" class=\"dataframe\">\n",
       "  <thead>\n",
       "    <tr style=\"text-align: right;\">\n",
       "      <th></th>\n",
       "      <th>1395</th>\n",
       "      <th>1396</th>\n",
       "      <th>1397</th>\n",
       "      <th>1398</th>\n",
       "      <th>1399</th>\n",
       "    </tr>\n",
       "  </thead>\n",
       "  <tbody>\n",
       "    <tr>\n",
       "      <th>ذخیره مزایای پایان خدمت</th>\n",
       "      <td>15651547</td>\n",
       "      <td>17522009</td>\n",
       "      <td>19243466</td>\n",
       "      <td>20231355</td>\n",
       "      <td>48863646</td>\n",
       "    </tr>\n",
       "    <tr>\n",
       "      <th>سایر بدهی‌ها</th>\n",
       "      <td>93487322</td>\n",
       "      <td>112250444</td>\n",
       "      <td>133109220</td>\n",
       "      <td>224950325</td>\n",
       "      <td>330181900</td>\n",
       "    </tr>\n",
       "    <tr>\n",
       "      <th>ذخیره مالیات بر درامد</th>\n",
       "      <td>0</td>\n",
       "      <td>0</td>\n",
       "      <td>0</td>\n",
       "      <td>30578501</td>\n",
       "      <td>65203303</td>\n",
       "    </tr>\n",
       "  </tbody>\n",
       "</table>\n",
       "</div>"
      ],
      "text/plain": [
       "                             1395       1396       1397       1398       1399\n",
       "ذخیره مزایای پایان خدمت  15651547   17522009   19243466   20231355   48863646\n",
       "سایر بدهی‌ها             93487322  112250444  133109220  224950325  330181900\n",
       "ذخیره مالیات بر درامد           0          0          0   30578501   65203303"
      ]
     },
     "execution_count": 495,
     "metadata": {},
     "output_type": "execute_result"
    }
   ],
   "source": [
    "illi_Deb = pd.DataFrame()\n",
    "for i in illi_deb:\n",
    "    illi_Deb[i]=a[i]\n",
    "illi_Deb=illi_Deb.T\n",
    "illi_Deb"
   ]
  },
  {
   "cell_type": "code",
   "execution_count": 496,
   "metadata": {},
   "outputs": [
    {
     "data": {
      "text/plain": [
       "444248849"
      ]
     },
     "execution_count": 496,
     "metadata": {},
     "output_type": "execute_result"
    }
   ],
   "source": [
    "sild=illi_Deb.iloc[:,q].sum()\n",
    "sild"
   ]
  },
  {
   "cell_type": "code",
   "execution_count": 545,
   "metadata": {},
   "outputs": [
    {
     "data": {
      "text/html": [
       "<div>\n",
       "<style scoped>\n",
       "    .dataframe tbody tr th:only-of-type {\n",
       "        vertical-align: middle;\n",
       "    }\n",
       "\n",
       "    .dataframe tbody tr th {\n",
       "        vertical-align: top;\n",
       "    }\n",
       "\n",
       "    .dataframe thead th {\n",
       "        text-align: right;\n",
       "    }\n",
       "</style>\n",
       "<table border=\"1\" class=\"dataframe\">\n",
       "  <thead>\n",
       "    <tr style=\"text-align: right;\">\n",
       "      <th></th>\n",
       "      <th>illiquid asset</th>\n",
       "    </tr>\n",
       "  </thead>\n",
       "  <tbody>\n",
       "    <tr>\n",
       "      <th>0</th>\n",
       "      <td>داراییهای ثابت مشهود</td>\n",
       "    </tr>\n",
       "    <tr>\n",
       "      <th>1</th>\n",
       "      <td>داراییهای نامشهود</td>\n",
       "    </tr>\n",
       "    <tr>\n",
       "      <th>2</th>\n",
       "      <td>طلب از شرکت های گروه و وابسته</td>\n",
       "    </tr>\n",
       "    <tr>\n",
       "      <th>3</th>\n",
       "      <td>سرمایه گذاری در اوراق بهادار</td>\n",
       "    </tr>\n",
       "    <tr>\n",
       "      <th>4</th>\n",
       "      <td>سایر حسابها و اسناد دریافتنی</td>\n",
       "    </tr>\n",
       "  </tbody>\n",
       "</table>\n",
       "</div>"
      ],
      "text/plain": [
       "                  illiquid asset\n",
       "0           داراییهای ثابت مشهود\n",
       "1              داراییهای نامشهود\n",
       "2  طلب از شرکت های گروه و وابسته\n",
       "3   سرمایه گذاری در اوراق بهادار\n",
       "4   سایر حسابها و اسناد دریافتنی"
      ]
     },
     "execution_count": 545,
     "metadata": {},
     "output_type": "execute_result"
    }
   ],
   "source": [
    "illi_as = pd.DataFrame()\n",
    "for i in illi:\n",
    "    illi_as[i]=a[i]\n",
    "illi_as=illi_as.T\n",
    "illi_as.index\n"
   ]
  },
  {
   "cell_type": "code",
   "execution_count": 498,
   "metadata": {},
   "outputs": [
    {
     "data": {
      "text/plain": [
       "943532930"
      ]
     },
     "execution_count": 498,
     "metadata": {},
     "output_type": "execute_result"
    }
   ],
   "source": [
    "sila=illi_as.iloc[:,q].sum()\n",
    "sila"
   ]
  },
  {
   "cell_type": "code",
   "execution_count": 562,
   "metadata": {},
   "outputs": [
    {
     "data": {
      "text/plain": [
       "814235870"
      ]
     },
     "execution_count": 562,
     "metadata": {},
     "output_type": "execute_result"
    }
   ],
   "source": [
    "li_as = pd.DataFrame()\n",
    "for i in liq:\n",
    "    li_as[i]=a[i]\n",
    "li_as=li_as.T\n"
   ]
  },
  {
   "cell_type": "code",
   "execution_count": 569,
   "metadata": {},
   "outputs": [
    {
     "data": {
      "text/html": [
       "<div>\n",
       "<style scoped>\n",
       "    .dataframe tbody tr th:only-of-type {\n",
       "        vertical-align: middle;\n",
       "    }\n",
       "\n",
       "    .dataframe tbody tr th {\n",
       "        vertical-align: top;\n",
       "    }\n",
       "\n",
       "    .dataframe thead th {\n",
       "        text-align: right;\n",
       "    }\n",
       "</style>\n",
       "<table border=\"1\" class=\"dataframe\">\n",
       "  <thead>\n",
       "    <tr style=\"text-align: right;\">\n",
       "      <th></th>\n",
       "      <th>sum_liq_a</th>\n",
       "      <th>sum_liq_d</th>\n",
       "    </tr>\n",
       "  </thead>\n",
       "  <tbody>\n",
       "    <tr>\n",
       "      <th>0</th>\n",
       "      <td>814235870</td>\n",
       "      <td>973217563</td>\n",
       "    </tr>\n",
       "    <tr>\n",
       "      <th>1</th>\n",
       "      <td>945722131</td>\n",
       "      <td>1136765963</td>\n",
       "    </tr>\n",
       "    <tr>\n",
       "      <th>2</th>\n",
       "      <td>1249228103</td>\n",
       "      <td>1462836001</td>\n",
       "    </tr>\n",
       "    <tr>\n",
       "      <th>3</th>\n",
       "      <td>1934155099</td>\n",
       "      <td>3179038049</td>\n",
       "    </tr>\n",
       "    <tr>\n",
       "      <th>4</th>\n",
       "      <td>2842517929</td>\n",
       "      <td>3188300134</td>\n",
       "    </tr>\n",
       "  </tbody>\n",
       "</table>\n",
       "</div>"
      ],
      "text/plain": [
       "    sum_liq_a   sum_liq_d\n",
       "0   814235870   973217563\n",
       "1   945722131  1136765963\n",
       "2  1249228103  1462836001\n",
       "3  1934155099  3179038049\n",
       "4  2842517929  3188300134"
      ]
     },
     "execution_count": 569,
     "metadata": {},
     "output_type": "execute_result"
    }
   ],
   "source": [
    "lii=[]\n",
    "liid=[]\n",
    "for i in range(0,5):\n",
    "    lii.append(li_as[1395+i].sum())\n",
    "    liid.append(liq_Deb[1395+i].sum())\n",
    "liii=pd.DataFrame()\n",
    "liii['sum_liq_a']=lii\n",
    "liii['sum_liq_d']=liid\n",
    "liii\n"
   ]
  },
  {
   "cell_type": "code",
   "execution_count": 549,
   "metadata": {},
   "outputs": [
    {
     "data": {
      "text/html": [
       "<div>\n",
       "<style scoped>\n",
       "    .dataframe tbody tr th:only-of-type {\n",
       "        vertical-align: middle;\n",
       "    }\n",
       "\n",
       "    .dataframe tbody tr th {\n",
       "        vertical-align: top;\n",
       "    }\n",
       "\n",
       "    .dataframe thead th {\n",
       "        text-align: right;\n",
       "    }\n",
       "</style>\n",
       "<table border=\"1\" class=\"dataframe\">\n",
       "  <thead>\n",
       "    <tr style=\"text-align: right;\">\n",
       "      <th></th>\n",
       "      <th>liquid debt</th>\n",
       "    </tr>\n",
       "  </thead>\n",
       "  <tbody>\n",
       "    <tr>\n",
       "      <th>0</th>\n",
       "      <td>سود سهام پیشنهادی و پرداختنی</td>\n",
       "    </tr>\n",
       "    <tr>\n",
       "      <th>1</th>\n",
       "      <td>اوراق بدهی</td>\n",
       "    </tr>\n",
       "    <tr>\n",
       "      <th>2</th>\n",
       "      <td>سپرده های مشتریان</td>\n",
       "    </tr>\n",
       "    <tr>\n",
       "      <th>3</th>\n",
       "      <td>بدهی به بانکها و موسسات اعتباری</td>\n",
       "    </tr>\n",
       "    <tr>\n",
       "      <th>4</th>\n",
       "      <td>جمع بدهی های قبل از حقوق صاحبان سپرده های سرما...</td>\n",
       "    </tr>\n",
       "    <tr>\n",
       "      <th>5</th>\n",
       "      <td>سپرده های سرمایه گذاری مدت دار</td>\n",
       "    </tr>\n",
       "  </tbody>\n",
       "</table>\n",
       "</div>"
      ],
      "text/plain": [
       "                                         liquid debt\n",
       "0                       سود سهام پیشنهادی و پرداختنی\n",
       "1                                         اوراق بدهی\n",
       "2                                  سپرده های مشتریان\n",
       "3                    بدهی به بانکها و موسسات اعتباری\n",
       "4  جمع بدهی های قبل از حقوق صاحبان سپرده های سرما...\n",
       "5                     سپرده های سرمایه گذاری مدت دار"
      ]
     },
     "execution_count": 549,
     "metadata": {},
     "output_type": "execute_result"
    }
   ],
   "source": [
    "f=pd.DataFrame()\n",
    "g=pd.DataFrame()\n",
    "f['illiquid asset']=illi_as.index\n",
    "g['liquid asset']=li_as.index\n",
    "p=pd.DataFrame()\n",
    "p['illiquid debt']=illi_Deb.index\n",
    "r=pd.DataFrame()\n",
    "r['liquid debt']=liq_Deb.index\n",
    "r\n"
   ]
  },
  {
   "cell_type": "code",
   "execution_count": 500,
   "metadata": {},
   "outputs": [
    {
     "data": {
      "text/plain": [
       "2842517929"
      ]
     },
     "execution_count": 500,
     "metadata": {},
     "output_type": "execute_result"
    }
   ],
   "source": [
    "sla=li_as.iloc[:,q].sum()\n",
    "sla"
   ]
  },
  {
   "cell_type": "code",
   "execution_count": 501,
   "metadata": {},
   "outputs": [
    {
     "data": {
      "text/plain": [
       "422533143.0"
      ]
     },
     "execution_count": 501,
     "metadata": {},
     "output_type": "execute_result"
    }
   ],
   "source": [
    "bb_cat=-sla-sild+sila+sld\n",
    "BB=bb_cat*0.5\n",
    "BB"
   ]
  },
  {
   "cell_type": "code",
   "execution_count": 505,
   "metadata": {},
   "outputs": [
    {
     "data": {
      "text/plain": [
       "60406040"
      ]
     },
     "execution_count": 505,
     "metadata": {},
     "output_type": "execute_result"
    }
   ],
   "source": [
    "#a.iloc[1397,'سپرده های مشتریان']\n",
    "a.iloc[1,2]"
   ]
  },
  {
   "cell_type": "code",
   "execution_count": 506,
   "metadata": {},
   "outputs": [
    {
     "data": {
      "text/plain": [
       "187948887"
      ]
     },
     "execution_count": 506,
     "metadata": {},
     "output_type": "execute_result"
    }
   ],
   "source": [
    "seporde=[]\n",
    "seporde=a['سپرده های مشتریان']\n",
    "seporde[1395]\n"
   ]
  },
  {
   "cell_type": "code",
   "execution_count": 507,
   "metadata": {},
   "outputs": [],
   "source": [
    "bb_a=[]\n",
    "sepordee=[]\n",
    "for q in range(0,5):\n",
    "    sld=liq_Deb.iloc[:,q].sum()\n",
    "    sild=illi_Deb.iloc[:,q].sum()\n",
    "    sila=illi_as.iloc[:,q].sum()\n",
    "    sla=li_as.iloc[:,q].sum()\n",
    "    bb_cat=-sla-sild+sila+sld\n",
    "    BB=bb_cat*0.5\n",
    "    bb_a.append(BB)\n",
    "    sepordee.append(seporde[1395+q])"
   ]
  },
  {
   "cell_type": "code",
   "execution_count": 508,
   "metadata": {},
   "outputs": [
    {
     "data": {
      "text/html": [
       "<div>\n",
       "<style scoped>\n",
       "    .dataframe tbody tr th:only-of-type {\n",
       "        vertical-align: middle;\n",
       "    }\n",
       "\n",
       "    .dataframe tbody tr th {\n",
       "        vertical-align: top;\n",
       "    }\n",
       "\n",
       "    .dataframe thead th {\n",
       "        text-align: right;\n",
       "    }\n",
       "</style>\n",
       "<table border=\"1\" class=\"dataframe\">\n",
       "  <thead>\n",
       "    <tr style=\"text-align: right;\">\n",
       "      <th></th>\n",
       "      <th>CAT_BB</th>\n",
       "      <th>Deposit</th>\n",
       "    </tr>\n",
       "  </thead>\n",
       "  <tbody>\n",
       "    <tr>\n",
       "      <th>0</th>\n",
       "      <td>128772185.5</td>\n",
       "      <td>187948887</td>\n",
       "    </tr>\n",
       "    <tr>\n",
       "      <th>1</th>\n",
       "      <td>125293019.5</td>\n",
       "      <td>223007085</td>\n",
       "    </tr>\n",
       "    <tr>\n",
       "      <th>2</th>\n",
       "      <td>224970454.5</td>\n",
       "      <td>389306586</td>\n",
       "    </tr>\n",
       "    <tr>\n",
       "      <th>3</th>\n",
       "      <td>714111566.5</td>\n",
       "      <td>690120132</td>\n",
       "    </tr>\n",
       "    <tr>\n",
       "      <th>4</th>\n",
       "      <td>422533143.0</td>\n",
       "      <td>1125884052</td>\n",
       "    </tr>\n",
       "  </tbody>\n",
       "</table>\n",
       "</div>"
      ],
      "text/plain": [
       "        CAT_BB     Deposit\n",
       "0  128772185.5   187948887\n",
       "1  125293019.5   223007085\n",
       "2  224970454.5   389306586\n",
       "3  714111566.5   690120132\n",
       "4  422533143.0  1125884052"
      ]
     },
     "execution_count": 508,
     "metadata": {},
     "output_type": "execute_result"
    }
   ],
   "source": [
    "bb=pd.DataFrame()\n",
    "bb['CAT_BB']=bb_a\n",
    "bb['Deposit']=sepordee\n",
    "bb"
   ]
  },
  {
   "cell_type": "code",
   "execution_count": 509,
   "metadata": {},
   "outputs": [],
   "source": [
    "bb['year']=[1395,1396,1397,1398,1399]"
   ]
  },
  {
   "cell_type": "code",
   "execution_count": 510,
   "metadata": {},
   "outputs": [
    {
     "data": {
      "text/html": [
       "<div>\n",
       "<style scoped>\n",
       "    .dataframe tbody tr th:only-of-type {\n",
       "        vertical-align: middle;\n",
       "    }\n",
       "\n",
       "    .dataframe tbody tr th {\n",
       "        vertical-align: top;\n",
       "    }\n",
       "\n",
       "    .dataframe thead th {\n",
       "        text-align: right;\n",
       "    }\n",
       "</style>\n",
       "<table border=\"1\" class=\"dataframe\">\n",
       "  <thead>\n",
       "    <tr style=\"text-align: right;\">\n",
       "      <th></th>\n",
       "      <th>CAT_BB</th>\n",
       "      <th>Deposit</th>\n",
       "      <th>CAT_BB/Total Deposit</th>\n",
       "    </tr>\n",
       "    <tr>\n",
       "      <th>year</th>\n",
       "      <th></th>\n",
       "      <th></th>\n",
       "      <th></th>\n",
       "    </tr>\n",
       "  </thead>\n",
       "  <tbody>\n",
       "    <tr>\n",
       "      <th>1395</th>\n",
       "      <td>128772185.5</td>\n",
       "      <td>187948887</td>\n",
       "      <td>0.685145</td>\n",
       "    </tr>\n",
       "    <tr>\n",
       "      <th>1396</th>\n",
       "      <td>125293019.5</td>\n",
       "      <td>223007085</td>\n",
       "      <td>0.561834</td>\n",
       "    </tr>\n",
       "    <tr>\n",
       "      <th>1397</th>\n",
       "      <td>224970454.5</td>\n",
       "      <td>389306586</td>\n",
       "      <td>0.577875</td>\n",
       "    </tr>\n",
       "    <tr>\n",
       "      <th>1398</th>\n",
       "      <td>714111566.5</td>\n",
       "      <td>690120132</td>\n",
       "      <td>1.034764</td>\n",
       "    </tr>\n",
       "    <tr>\n",
       "      <th>1399</th>\n",
       "      <td>422533143.0</td>\n",
       "      <td>1125884052</td>\n",
       "      <td>0.375290</td>\n",
       "    </tr>\n",
       "  </tbody>\n",
       "</table>\n",
       "</div>"
      ],
      "text/plain": [
       "           CAT_BB     Deposit  CAT_BB/Total Deposit\n",
       "year                                               \n",
       "1395  128772185.5   187948887              0.685145\n",
       "1396  125293019.5   223007085              0.561834\n",
       "1397  224970454.5   389306586              0.577875\n",
       "1398  714111566.5   690120132              1.034764\n",
       "1399  422533143.0  1125884052              0.375290"
      ]
     },
     "execution_count": 510,
     "metadata": {},
     "output_type": "execute_result"
    }
   ],
   "source": [
    "bb['CAT_BB/Total Deposit']=bb['CAT_BB']/bb['Deposit']\n",
    "bb=bb.set_index(bb['year'])\n",
    "bb=bb.drop(columns='year')\n",
    "bb"
   ]
  },
  {
   "cell_type": "code",
   "execution_count": 511,
   "metadata": {},
   "outputs": [
    {
     "data": {
      "image/png": "[encoded data removed]",
      "text/plain": [
       "<Figure size 432x288 with 1 Axes>"
      ]
     },
     "metadata": {
      "needs_background": "light"
     },
     "output_type": "display_data"
    }
   ],
   "source": [
    "X=bb.index\n",
    "Z=bb['CAT_BB/Total Deposit']\n",
    "plt.plot(X,Z)\n",
    "plt.xlabel('year')\n",
    "plt.ylabel('CAT_BB/Total Deposit')\n",
    "plt.title('Liquidity provision for Tejarat bank')\n",
    "plt.show()\n"
   ]
  },
  {
   "cell_type": "code",
   "execution_count": 512,
   "metadata": {},
   "outputs": [
    {
     "data": {
      "image/png": "[encoded data removed]",
      "text/plain": [
       "<Figure size 432x288 with 1 Axes>"
      ]
     },
     "metadata": {
      "needs_background": "light"
     },
     "output_type": "display_data"
    }
   ],
   "source": [
    "X=bb.index\n",
    "Y=bb['CAT_BB']\n",
    "plt.plot(X,Y)\n",
    "plt.xlabel('year')\n",
    "plt.ylabel('CAT_BB')\n",
    "plt.title('Liquidity provision for Tejarat bank')\n",
    "plt.show()"
   ]
  },
  {
   "cell_type": "code",
   "execution_count": 513,
   "metadata": {},
   "outputs": [],
   "source": [
    "Milli=[]\n",
    "for i in range(0,2):\n",
    "    Milli.append(asset[i]) # در اینجا فرض گرفته شد 2 و 4 نیمه مایع است.\n",
    "Mliq=[]\n",
    "Mliq.append(asset[3])\n",
    "for i in range(8,12):\n",
    "    Mliq.append(asset[i])\n",
    "Mliq_deb=[] #بدهی های نقد شونده\n",
    "for i in range(4,9):\n",
    "    Mliq_deb.append(debt[i])\n",
    "Mliq_deb\n",
    "\n",
    "Milli_deb=[] #بدهی نقدنشونده\n",
    "for i in range(0,4):\n",
    "    Milli_deb.append(debt[i])\n"
   ]
  },
  {
   "cell_type": "code",
   "execution_count": 514,
   "metadata": {},
   "outputs": [],
   "source": [
    "Mliq_Deb = pd.DataFrame()\n",
    "for i in Mliq_deb:\n",
    "    Mliq_Deb[i]=a[i]\n",
    "Mliq_Deb=Mliq_Deb.replace('-',0)\n",
    "Mliq_Deb=Mliq_Deb.T"
   ]
  },
  {
   "cell_type": "code",
   "execution_count": 515,
   "metadata": {},
   "outputs": [
    {
     "data": {
      "text/html": [
       "<div>\n",
       "<style scoped>\n",
       "    .dataframe tbody tr th:only-of-type {\n",
       "        vertical-align: middle;\n",
       "    }\n",
       "\n",
       "    .dataframe tbody tr th {\n",
       "        vertical-align: top;\n",
       "    }\n",
       "\n",
       "    .dataframe thead th {\n",
       "        text-align: right;\n",
       "    }\n",
       "</style>\n",
       "<table border=\"1\" class=\"dataframe\">\n",
       "  <thead>\n",
       "    <tr style=\"text-align: right;\">\n",
       "      <th></th>\n",
       "      <th>1395</th>\n",
       "      <th>1396</th>\n",
       "      <th>1397</th>\n",
       "      <th>1398</th>\n",
       "      <th>1399</th>\n",
       "    </tr>\n",
       "  </thead>\n",
       "  <tbody>\n",
       "    <tr>\n",
       "      <th>ذخیره مزایای پایان خدمت</th>\n",
       "      <td>15651547</td>\n",
       "      <td>17522009</td>\n",
       "      <td>19243466</td>\n",
       "      <td>20231355</td>\n",
       "      <td>48863646</td>\n",
       "    </tr>\n",
       "    <tr>\n",
       "      <th>سایر بدهی‌ها</th>\n",
       "      <td>93487322</td>\n",
       "      <td>112250444</td>\n",
       "      <td>133109220</td>\n",
       "      <td>224950325</td>\n",
       "      <td>330181900</td>\n",
       "    </tr>\n",
       "    <tr>\n",
       "      <th>ذخیره مالیات بر درامد</th>\n",
       "      <td>0</td>\n",
       "      <td>0</td>\n",
       "      <td>0</td>\n",
       "      <td>30578501</td>\n",
       "      <td>65203303</td>\n",
       "    </tr>\n",
       "    <tr>\n",
       "      <th>سود سهام پیشنهادی و پرداختنی</th>\n",
       "      <td>554035</td>\n",
       "      <td>365581</td>\n",
       "      <td>0</td>\n",
       "      <td>0</td>\n",
       "      <td>362818</td>\n",
       "    </tr>\n",
       "  </tbody>\n",
       "</table>\n",
       "</div>"
      ],
      "text/plain": [
       "                                  1395       1396       1397       1398  \\\n",
       "ذخیره مزایای پایان خدمت       15651547   17522009   19243466   20231355   \n",
       "سایر بدهی‌ها                  93487322  112250444  133109220  224950325   \n",
       "ذخیره مالیات بر درامد                0          0          0   30578501   \n",
       "سود سهام پیشنهادی و پرداختنی    554035     365581          0          0   \n",
       "\n",
       "                                   1399  \n",
       "ذخیره مزایای پایان خدمت        48863646  \n",
       "سایر بدهی‌ها                  330181900  \n",
       "ذخیره مالیات بر درامد          65203303  \n",
       "سود سهام پیشنهادی و پرداختنی     362818  "
      ]
     },
     "execution_count": 515,
     "metadata": {},
     "output_type": "execute_result"
    }
   ],
   "source": [
    "Milli_Deb = pd.DataFrame()\n",
    "for i in Milli_deb:\n",
    "    Milli_Deb[i]=a[i]\n",
    "Milli_Deb=Milli_Deb.T\n",
    "Milli_Deb"
   ]
  },
  {
   "cell_type": "code",
   "execution_count": 516,
   "metadata": {},
   "outputs": [
    {
     "data": {
      "text/html": [
       "<div>\n",
       "<style scoped>\n",
       "    .dataframe tbody tr th:only-of-type {\n",
       "        vertical-align: middle;\n",
       "    }\n",
       "\n",
       "    .dataframe tbody tr th {\n",
       "        vertical-align: top;\n",
       "    }\n",
       "\n",
       "    .dataframe thead th {\n",
       "        text-align: right;\n",
       "    }\n",
       "</style>\n",
       "<table border=\"1\" class=\"dataframe\">\n",
       "  <thead>\n",
       "    <tr style=\"text-align: right;\">\n",
       "      <th></th>\n",
       "      <th>1395</th>\n",
       "      <th>1396</th>\n",
       "      <th>1397</th>\n",
       "      <th>1398</th>\n",
       "      <th>1399</th>\n",
       "    </tr>\n",
       "  </thead>\n",
       "  <tbody>\n",
       "    <tr>\n",
       "      <th>داراییهای ثابت مشهود</th>\n",
       "      <td>62315533</td>\n",
       "      <td>60406040</td>\n",
       "      <td>146805063</td>\n",
       "      <td>135596141</td>\n",
       "      <td>144729947</td>\n",
       "    </tr>\n",
       "    <tr>\n",
       "      <th>داراییهای نامشهود</th>\n",
       "      <td>829147</td>\n",
       "      <td>983071</td>\n",
       "      <td>9641631</td>\n",
       "      <td>9649514</td>\n",
       "      <td>9793599</td>\n",
       "    </tr>\n",
       "  </tbody>\n",
       "</table>\n",
       "</div>"
      ],
      "text/plain": [
       "                          1395      1396       1397       1398       1399\n",
       "داراییهای ثابت مشهود  62315533  60406040  146805063  135596141  144729947\n",
       "داراییهای نامشهود       829147    983071    9641631    9649514    9793599"
      ]
     },
     "execution_count": 516,
     "metadata": {},
     "output_type": "execute_result"
    }
   ],
   "source": [
    "Milli_as = pd.DataFrame()\n",
    "for i in Milli:\n",
    "    Milli_as[i]=a[i]\n",
    "Milli_as=Milli_as.T\n",
    "Milli_as"
   ]
  },
  {
   "cell_type": "code",
   "execution_count": 517,
   "metadata": {},
   "outputs": [
    {
     "data": {
      "text/html": [
       "<div>\n",
       "<style scoped>\n",
       "    .dataframe tbody tr th:only-of-type {\n",
       "        vertical-align: middle;\n",
       "    }\n",
       "\n",
       "    .dataframe tbody tr th {\n",
       "        vertical-align: top;\n",
       "    }\n",
       "\n",
       "    .dataframe thead th {\n",
       "        text-align: right;\n",
       "    }\n",
       "</style>\n",
       "<table border=\"1\" class=\"dataframe\">\n",
       "  <thead>\n",
       "    <tr style=\"text-align: right;\">\n",
       "      <th></th>\n",
       "      <th>1395</th>\n",
       "      <th>1396</th>\n",
       "      <th>1397</th>\n",
       "      <th>1398</th>\n",
       "      <th>1399</th>\n",
       "    </tr>\n",
       "  </thead>\n",
       "  <tbody>\n",
       "    <tr>\n",
       "      <th>سرمایه گذاری در اوراق بهادار</th>\n",
       "      <td>36853168</td>\n",
       "      <td>46418510</td>\n",
       "      <td>130287252</td>\n",
       "      <td>123808559</td>\n",
       "      <td>511562263</td>\n",
       "    </tr>\n",
       "    <tr>\n",
       "      <th>تسهیلات اعطایی و مطالبات از اشخاص دولتی</th>\n",
       "      <td>940647</td>\n",
       "      <td>795904</td>\n",
       "      <td>267955</td>\n",
       "      <td>1491857</td>\n",
       "      <td>5093810</td>\n",
       "    </tr>\n",
       "    <tr>\n",
       "      <th>مطالبات از سایر بانکها و موسسات اعتباری</th>\n",
       "      <td>9952294</td>\n",
       "      <td>8649853</td>\n",
       "      <td>50683264</td>\n",
       "      <td>251313924</td>\n",
       "      <td>407555268</td>\n",
       "    </tr>\n",
       "    <tr>\n",
       "      <th>سپرده قانونی</th>\n",
       "      <td>0</td>\n",
       "      <td>0</td>\n",
       "      <td>0</td>\n",
       "      <td>210124467</td>\n",
       "      <td>309337880</td>\n",
       "    </tr>\n",
       "    <tr>\n",
       "      <th>موجودی نقد</th>\n",
       "      <td>39504323</td>\n",
       "      <td>52825707</td>\n",
       "      <td>107340390</td>\n",
       "      <td>128438797</td>\n",
       "      <td>112762348</td>\n",
       "    </tr>\n",
       "  </tbody>\n",
       "</table>\n",
       "</div>"
      ],
      "text/plain": [
       "                                             1395      1396       1397  \\\n",
       "سرمایه گذاری در اوراق بهادار             36853168  46418510  130287252   \n",
       "تسهیلات اعطایی و مطالبات از اشخاص دولتی    940647    795904     267955   \n",
       "مطالبات از سایر بانکها و موسسات اعتباری   9952294   8649853   50683264   \n",
       "سپرده قانونی                                    0         0          0   \n",
       "موجودی نقد                               39504323  52825707  107340390   \n",
       "\n",
       "                                              1398       1399  \n",
       "سرمایه گذاری در اوراق بهادار             123808559  511562263  \n",
       "تسهیلات اعطایی و مطالبات از اشخاص دولتی    1491857    5093810  \n",
       "مطالبات از سایر بانکها و موسسات اعتباری  251313924  407555268  \n",
       "سپرده قانونی                             210124467  309337880  \n",
       "موجودی نقد                               128438797  112762348  "
      ]
     },
     "execution_count": 517,
     "metadata": {},
     "output_type": "execute_result"
    }
   ],
   "source": [
    "Mli_as = pd.DataFrame()\n",
    "for i in Mliq:\n",
    "    Mli_as[i]=a[i]\n",
    "Mli_as=Mli_as.T\n",
    "Mli_as"
   ]
  },
  {
   "cell_type": "code",
   "execution_count": 518,
   "metadata": {},
   "outputs": [],
   "source": [
    "bb_M=[]\n",
    "for q in range(0,5):\n",
    "    Msld=Mliq_Deb.iloc[:,q].sum()\n",
    "    Msild=Milli_Deb.iloc[:,q].sum()\n",
    "    Msila=Milli_as.iloc[:,q].sum()\n",
    "    Msla=Mli_as.iloc[:,q].sum()\n",
    "    bb_MAT=-Msla-Msild+Msila+Msld\n",
    "    BB_MAT=bb_MAT*0.5\n",
    "    bb_M.append(BB_MAT)\n",
    "    #sepordee.append(seporde[1395+q])"
   ]
  },
  {
   "cell_type": "code",
   "execution_count": 519,
   "metadata": {},
   "outputs": [
    {
     "data": {
      "text/html": [
       "<div>\n",
       "<style scoped>\n",
       "    .dataframe tbody tr th:only-of-type {\n",
       "        vertical-align: middle;\n",
       "    }\n",
       "\n",
       "    .dataframe tbody tr th {\n",
       "        vertical-align: top;\n",
       "    }\n",
       "\n",
       "    .dataframe thead th {\n",
       "        text-align: right;\n",
       "    }\n",
       "</style>\n",
       "<table border=\"1\" class=\"dataframe\">\n",
       "  <thead>\n",
       "    <tr style=\"text-align: right;\">\n",
       "      <th></th>\n",
       "      <th>CAT_BB</th>\n",
       "      <th>Deposit</th>\n",
       "      <th>CAT_BB/Total Deposit</th>\n",
       "      <th>MAT_BB</th>\n",
       "    </tr>\n",
       "    <tr>\n",
       "      <th>year</th>\n",
       "      <th></th>\n",
       "      <th></th>\n",
       "      <th></th>\n",
       "      <th></th>\n",
       "    </tr>\n",
       "  </thead>\n",
       "  <tbody>\n",
       "    <tr>\n",
       "      <th>1395</th>\n",
       "      <td>128772185.5</td>\n",
       "      <td>187948887</td>\n",
       "      <td>0.685145</td>\n",
       "      <td>4.194324e+08</td>\n",
       "    </tr>\n",
       "    <tr>\n",
       "      <th>1396</th>\n",
       "      <td>125293019.5</td>\n",
       "      <td>223007085</td>\n",
       "      <td>0.561834</td>\n",
       "      <td>4.794807e+08</td>\n",
       "    </tr>\n",
       "    <tr>\n",
       "      <th>1397</th>\n",
       "      <td>224970454.5</td>\n",
       "      <td>389306586</td>\n",
       "      <td>0.577875</td>\n",
       "      <td>5.891756e+08</td>\n",
       "    </tr>\n",
       "    <tr>\n",
       "      <th>1398</th>\n",
       "      <td>714111566.5</td>\n",
       "      <td>690120132</td>\n",
       "      <td>1.034764</td>\n",
       "      <td>1.166673e+09</td>\n",
       "    </tr>\n",
       "    <tr>\n",
       "      <th>1399</th>\n",
       "      <td>422533143.0</td>\n",
       "      <td>1125884052</td>\n",
       "      <td>0.375290</td>\n",
       "      <td>7.757688e+08</td>\n",
       "    </tr>\n",
       "  </tbody>\n",
       "</table>\n",
       "</div>"
      ],
      "text/plain": [
       "           CAT_BB     Deposit  CAT_BB/Total Deposit        MAT_BB\n",
       "year                                                             \n",
       "1395  128772185.5   187948887              0.685145  4.194324e+08\n",
       "1396  125293019.5   223007085              0.561834  4.794807e+08\n",
       "1397  224970454.5   389306586              0.577875  5.891756e+08\n",
       "1398  714111566.5   690120132              1.034764  1.166673e+09\n",
       "1399  422533143.0  1125884052              0.375290  7.757688e+08"
      ]
     },
     "execution_count": 519,
     "metadata": {},
     "output_type": "execute_result"
    }
   ],
   "source": [
    "bb['MAT_BB']=bb_M\n",
    "bb"
   ]
  },
  {
   "cell_type": "code",
   "execution_count": 520,
   "metadata": {},
   "outputs": [],
   "source": [
    " \n",
    "ASSET = pd.DataFrame()\n",
    "for i in asset:\n",
    "    ASSET[i]=a[i]\n",
    "ASSET=ASSET.T\n",
    "ASSET\n",
    "total_assset=[]\n",
    "for i in range(0,5):\n",
    "    total_assset.append(ASSET[1395+i].sum())\n"
   ]
  },
  {
   "cell_type": "code",
   "execution_count": 521,
   "metadata": {},
   "outputs": [],
   "source": [
    "DEBT = pd.DataFrame()\n",
    "for i in debt:\n",
    "    DEBT[i]=a[i]\n",
    "DEBT=DEBT.T\n",
    "\n",
    "\n",
    "total_debt=[]\n",
    "for i in range(0,5):\n",
    "    total_debt.append(DEBT[1395+i].sum())"
   ]
  },
  {
   "cell_type": "code",
   "execution_count": 522,
   "metadata": {},
   "outputs": [
    {
     "data": {
      "text/plain": [
       "[1082356432, 1266538416, 1615188687, 3454798230, 3632548983]"
      ]
     },
     "execution_count": 522,
     "metadata": {},
     "output_type": "execute_result"
    }
   ],
   "source": [
    "total_debt"
   ]
  },
  {
   "cell_type": "code",
   "execution_count": 523,
   "metadata": {},
   "outputs": [
    {
     "data": {
      "text/html": [
       "<div>\n",
       "<style scoped>\n",
       "    .dataframe tbody tr th:only-of-type {\n",
       "        vertical-align: middle;\n",
       "    }\n",
       "\n",
       "    .dataframe tbody tr th {\n",
       "        vertical-align: top;\n",
       "    }\n",
       "\n",
       "    .dataframe thead th {\n",
       "        text-align: right;\n",
       "    }\n",
       "</style>\n",
       "<table border=\"1\" class=\"dataframe\">\n",
       "  <thead>\n",
       "    <tr style=\"text-align: right;\">\n",
       "      <th></th>\n",
       "      <th>t.asset</th>\n",
       "      <th>t.debt</th>\n",
       "      <th>debt/asset</th>\n",
       "    </tr>\n",
       "  </thead>\n",
       "  <tbody>\n",
       "    <tr>\n",
       "      <th>0</th>\n",
       "      <td>1085791688</td>\n",
       "      <td>1082356432</td>\n",
       "      <td>0.996836</td>\n",
       "    </tr>\n",
       "    <tr>\n",
       "      <th>1</th>\n",
       "      <td>1215731968</td>\n",
       "      <td>1266538416</td>\n",
       "      <td>1.041791</td>\n",
       "    </tr>\n",
       "    <tr>\n",
       "      <th>2</th>\n",
       "      <td>1749189076</td>\n",
       "      <td>1615188687</td>\n",
       "      <td>0.923393</td>\n",
       "    </tr>\n",
       "    <tr>\n",
       "      <th>3</th>\n",
       "      <td>2482112323</td>\n",
       "      <td>3454798230</td>\n",
       "      <td>1.391878</td>\n",
       "    </tr>\n",
       "    <tr>\n",
       "      <th>4</th>\n",
       "      <td>3894476476</td>\n",
       "      <td>3632548983</td>\n",
       "      <td>0.932744</td>\n",
       "    </tr>\n",
       "  </tbody>\n",
       "</table>\n",
       "</div>"
      ],
      "text/plain": [
       "      t.asset      t.debt  debt/asset\n",
       "0  1085791688  1082356432    0.996836\n",
       "1  1215731968  1266538416    1.041791\n",
       "2  1749189076  1615188687    0.923393\n",
       "3  2482112323  3454798230    1.391878\n",
       "4  3894476476  3632548983    0.932744"
      ]
     },
     "execution_count": 523,
     "metadata": {},
     "output_type": "execute_result"
    }
   ],
   "source": [
    "ratio=pd.DataFrame()\n",
    "ratio['t.asset']=total_assset\n",
    "ratio['t.debt']=total_debt\n",
    "ratio['debt/asset']=ratio['t.debt']/ratio['t.asset']\n",
    "ratio"
   ]
  },
  {
   "cell_type": "code",
   "execution_count": 524,
   "metadata": {},
   "outputs": [
    {
     "data": {
      "text/html": [
       "<div>\n",
       "<style scoped>\n",
       "    .dataframe tbody tr th:only-of-type {\n",
       "        vertical-align: middle;\n",
       "    }\n",
       "\n",
       "    .dataframe tbody tr th {\n",
       "        vertical-align: top;\n",
       "    }\n",
       "\n",
       "    .dataframe thead th {\n",
       "        text-align: right;\n",
       "    }\n",
       "</style>\n",
       "<table border=\"1\" class=\"dataframe\">\n",
       "  <thead>\n",
       "    <tr style=\"text-align: right;\">\n",
       "      <th></th>\n",
       "      <th>t.asset</th>\n",
       "      <th>t.debt</th>\n",
       "      <th>debt/asset</th>\n",
       "    </tr>\n",
       "    <tr>\n",
       "      <th>year</th>\n",
       "      <th></th>\n",
       "      <th></th>\n",
       "      <th></th>\n",
       "    </tr>\n",
       "  </thead>\n",
       "  <tbody>\n",
       "    <tr>\n",
       "      <th>1395</th>\n",
       "      <td>1085791688</td>\n",
       "      <td>1082356432</td>\n",
       "      <td>0.996836</td>\n",
       "    </tr>\n",
       "    <tr>\n",
       "      <th>1396</th>\n",
       "      <td>1215731968</td>\n",
       "      <td>1266538416</td>\n",
       "      <td>1.041791</td>\n",
       "    </tr>\n",
       "    <tr>\n",
       "      <th>1397</th>\n",
       "      <td>1749189076</td>\n",
       "      <td>1615188687</td>\n",
       "      <td>0.923393</td>\n",
       "    </tr>\n",
       "    <tr>\n",
       "      <th>1398</th>\n",
       "      <td>2482112323</td>\n",
       "      <td>3454798230</td>\n",
       "      <td>1.391878</td>\n",
       "    </tr>\n",
       "    <tr>\n",
       "      <th>1399</th>\n",
       "      <td>3894476476</td>\n",
       "      <td>3632548983</td>\n",
       "      <td>0.932744</td>\n",
       "    </tr>\n",
       "  </tbody>\n",
       "</table>\n",
       "</div>"
      ],
      "text/plain": [
       "         t.asset      t.debt  debt/asset\n",
       "year                                    \n",
       "1395  1085791688  1082356432    0.996836\n",
       "1396  1215731968  1266538416    1.041791\n",
       "1397  1749189076  1615188687    0.923393\n",
       "1398  2482112323  3454798230    1.391878\n",
       "1399  3894476476  3632548983    0.932744"
      ]
     },
     "execution_count": 524,
     "metadata": {},
     "output_type": "execute_result"
    }
   ],
   "source": [
    "ratio['year']=[1395,1396,1397,1398,1399]\n",
    "ratio=ratio.set_index(ratio['year'])\n",
    "ratio=ratio.drop(columns='year')\n",
    "ratio"
   ]
  },
  {
   "cell_type": "code",
   "execution_count": 525,
   "metadata": {},
   "outputs": [
    {
     "data": {
      "text/plain": [
       "<matplotlib.axes._subplots.AxesSubplot at 0x20ce24ecd48>"
      ]
     },
     "execution_count": 525,
     "metadata": {},
     "output_type": "execute_result"
    },
    {
     "data": {
      "image/png": "[encoded data removed]",
      "text/plain": [
       "<Figure size 432x288 with 1 Axes>"
      ]
     },
     "metadata": {
      "needs_background": "light"
     },
     "output_type": "display_data"
    }
   ],
   "source": [
    "ratio['debt/asset'].plot()"
   ]
  },
  {
   "cell_type": "code",
   "execution_count": 526,
   "metadata": {},
   "outputs": [
    {
     "data": {
      "image/png": "[encoded data removed]",
      "text/plain": [
       "<Figure size 432x288 with 1 Axes>"
      ]
     },
     "metadata": {
      "needs_background": "light"
     },
     "output_type": "display_data"
    }
   ],
   "source": [
    "X=bb.index\n",
    "MAT=bb['MAT_BB']\n",
    "plt.plot(X,MAT)\n",
    "plt.xlabel('year')\n",
    "plt.ylabel('MAT_BB')\n",
    "plt.title('Liquidity provision for Tejarat bank')\n",
    "plt.show()"
   ]
  },
  {
   "cell_type": "code",
   "execution_count": 527,
   "metadata": {},
   "outputs": [
    {
     "data": {
      "text/html": [
       "<div>\n",
       "<style scoped>\n",
       "    .dataframe tbody tr th:only-of-type {\n",
       "        vertical-align: middle;\n",
       "    }\n",
       "\n",
       "    .dataframe tbody tr th {\n",
       "        vertical-align: top;\n",
       "    }\n",
       "\n",
       "    .dataframe thead th {\n",
       "        text-align: right;\n",
       "    }\n",
       "</style>\n",
       "<table border=\"1\" class=\"dataframe\">\n",
       "  <thead>\n",
       "    <tr style=\"text-align: right;\">\n",
       "      <th>دوره مالی</th>\n",
       "      <th>تاریخ انتشار</th>\n",
       "      <th>دارایی ها</th>\n",
       "      <th>داراییهای ثابت مشهود</th>\n",
       "      <th>داراییهای نامشهود</th>\n",
       "      <th>طلب از شرکت های گروه و وابسته</th>\n",
       "      <th>سرمایه گذاری در اوراق بهادار</th>\n",
       "      <th>سایر حسابها و اسناد دریافتنی</th>\n",
       "      <th>سایر دارایی ها</th>\n",
       "      <th>مطالبات از دولت</th>\n",
       "      <th>تسهیلات اعطایی به سایر اشخاص</th>\n",
       "      <th>...</th>\n",
       "      <th>ذخیره مالیات بر درامد</th>\n",
       "      <th>سود سهام پیشنهادی و پرداختنی</th>\n",
       "      <th>اوراق بدهی</th>\n",
       "      <th>سپرده های مشتریان</th>\n",
       "      <th>بدهی به بانکها و موسسات اعتباری</th>\n",
       "      <th>جمع بدهی های قبل از حقوق صاحبان سپرده های سرمایه گذاری</th>\n",
       "      <th>سپرده های سرمایه گذاری مدت دار</th>\n",
       "      <th>جمع بدهیهای جاری و غیر جاری</th>\n",
       "      <th>جمع بدهیها و حقوق صاحبان سهام</th>\n",
       "      <th>sal</th>\n",
       "    </tr>\n",
       "  </thead>\n",
       "  <tbody>\n",
       "    <tr>\n",
       "      <th>1395</th>\n",
       "      <td>1397-05-29 (8)</td>\n",
       "      <td>NaN</td>\n",
       "      <td>62315533</td>\n",
       "      <td>829147</td>\n",
       "      <td>0</td>\n",
       "      <td>36853168</td>\n",
       "      <td>107703699</td>\n",
       "      <td>63854271</td>\n",
       "      <td>281602327</td>\n",
       "      <td>482236279</td>\n",
       "      <td>...</td>\n",
       "      <td>0</td>\n",
       "      <td>554035</td>\n",
       "      <td>0</td>\n",
       "      <td>187948887</td>\n",
       "      <td>15537910</td>\n",
       "      <td>0</td>\n",
       "      <td>769176731</td>\n",
       "      <td>1158183302</td>\n",
       "      <td>1202595668</td>\n",
       "      <td>1395</td>\n",
       "    </tr>\n",
       "    <tr>\n",
       "      <th>1396</th>\n",
       "      <td>1398-04-25 (10)</td>\n",
       "      <td>NaN</td>\n",
       "      <td>60406040</td>\n",
       "      <td>983071</td>\n",
       "      <td>0</td>\n",
       "      <td>46418510</td>\n",
       "      <td>81507039</td>\n",
       "      <td>80695177</td>\n",
       "      <td>336787839</td>\n",
       "      <td>546662828</td>\n",
       "      <td>...</td>\n",
       "      <td>0</td>\n",
       "      <td>365581</td>\n",
       "      <td>0</td>\n",
       "      <td>223007085</td>\n",
       "      <td>27453117</td>\n",
       "      <td>0</td>\n",
       "      <td>885940180</td>\n",
       "      <td>1388019870</td>\n",
       "      <td>1345745625</td>\n",
       "      <td>1396</td>\n",
       "    </tr>\n",
       "    <tr>\n",
       "      <th>1397</th>\n",
       "      <td>1399-05-15 (8)</td>\n",
       "      <td>NaN</td>\n",
       "      <td>146805063</td>\n",
       "      <td>9641631</td>\n",
       "      <td>0</td>\n",
       "      <td>130287252</td>\n",
       "      <td>101951751</td>\n",
       "      <td>111275276</td>\n",
       "      <td>402923136</td>\n",
       "      <td>688013358</td>\n",
       "      <td>...</td>\n",
       "      <td>0</td>\n",
       "      <td>0</td>\n",
       "      <td>0</td>\n",
       "      <td>389306586</td>\n",
       "      <td>33957382</td>\n",
       "      <td>0</td>\n",
       "      <td>1039572033</td>\n",
       "      <td>1783903912</td>\n",
       "      <td>1918279845</td>\n",
       "      <td>1397</td>\n",
       "    </tr>\n",
       "    <tr>\n",
       "      <th>1398</th>\n",
       "      <td>1400-04-23 (9)</td>\n",
       "      <td>NaN</td>\n",
       "      <td>135596141</td>\n",
       "      <td>9649514</td>\n",
       "      <td>29974623</td>\n",
       "      <td>123808559</td>\n",
       "      <td>160071527</td>\n",
       "      <td>88856860</td>\n",
       "      <td>464515556</td>\n",
       "      <td>878270498</td>\n",
       "      <td>...</td>\n",
       "      <td>30578501</td>\n",
       "      <td>0</td>\n",
       "      <td>0</td>\n",
       "      <td>690120132</td>\n",
       "      <td>115254822</td>\n",
       "      <td>1081135135</td>\n",
       "      <td>1292527960</td>\n",
       "      <td>2373663095</td>\n",
       "      <td>2482112323</td>\n",
       "      <td>1398</td>\n",
       "    </tr>\n",
       "    <tr>\n",
       "      <th>1399</th>\n",
       "      <td>1400-10-29 (7)</td>\n",
       "      <td>NaN</td>\n",
       "      <td>144729947</td>\n",
       "      <td>9793599</td>\n",
       "      <td>57809878</td>\n",
       "      <td>511562263</td>\n",
       "      <td>219637243</td>\n",
       "      <td>108425617</td>\n",
       "      <td>477370991</td>\n",
       "      <td>1530397632</td>\n",
       "      <td>...</td>\n",
       "      <td>65203303</td>\n",
       "      <td>362818</td>\n",
       "      <td>0</td>\n",
       "      <td>1125884052</td>\n",
       "      <td>79919832</td>\n",
       "      <td>0</td>\n",
       "      <td>1982133432</td>\n",
       "      <td>3632548983</td>\n",
       "      <td>3894476476</td>\n",
       "      <td>1399</td>\n",
       "    </tr>\n",
       "  </tbody>\n",
       "</table>\n",
       "<p>5 rows × 40 columns</p>\n",
       "</div>"
      ],
      "text/plain": [
       "دوره مالی     تاریخ انتشار  دارایی ها  داراییهای ثابت مشهود  \\\n",
       "1395        1397-05-29 (8)        NaN              62315533   \n",
       "1396       1398-04-25 (10)        NaN              60406040   \n",
       "1397        1399-05-15 (8)        NaN             146805063   \n",
       "1398        1400-04-23 (9)        NaN             135596141   \n",
       "1399        1400-10-29 (7)        NaN             144729947   \n",
       "\n",
       "دوره مالی  داراییهای نامشهود  طلب از شرکت های گروه و وابسته  \\\n",
       "1395                  829147                              0   \n",
       "1396                  983071                              0   \n",
       "1397                 9641631                              0   \n",
       "1398                 9649514                       29974623   \n",
       "1399                 9793599                       57809878   \n",
       "\n",
       "دوره مالی  سرمایه گذاری در اوراق بهادار  سایر حسابها و اسناد دریافتنی  \\\n",
       "1395                           36853168                     107703699   \n",
       "1396                           46418510                      81507039   \n",
       "1397                          130287252                     101951751   \n",
       "1398                          123808559                     160071527   \n",
       "1399                          511562263                     219637243   \n",
       "\n",
       "دوره مالی  سایر دارایی ها  مطالبات از دولت  تسهیلات اعطایی به سایر اشخاص  ...  \\\n",
       "1395             63854271        281602327                     482236279  ...   \n",
       "1396             80695177        336787839                     546662828  ...   \n",
       "1397            111275276        402923136                     688013358  ...   \n",
       "1398             88856860        464515556                     878270498  ...   \n",
       "1399            108425617        477370991                    1530397632  ...   \n",
       "\n",
       "دوره مالی  ذخیره مالیات بر درامد  سود سهام پیشنهادی و پرداختنی  اوراق بدهی  \\\n",
       "1395                           0                        554035           0   \n",
       "1396                           0                        365581           0   \n",
       "1397                           0                             0           0   \n",
       "1398                    30578501                             0           0   \n",
       "1399                    65203303                        362818           0   \n",
       "\n",
       "دوره مالی  سپرده های مشتریان  بدهی به بانکها و موسسات اعتباری  \\\n",
       "1395               187948887                         15537910   \n",
       "1396               223007085                         27453117   \n",
       "1397               389306586                         33957382   \n",
       "1398               690120132                        115254822   \n",
       "1399              1125884052                         79919832   \n",
       "\n",
       "دوره مالی  جمع بدهی های قبل از حقوق صاحبان سپرده های سرمایه گذاری  \\\n",
       "1395                                                       0        \n",
       "1396                                                       0        \n",
       "1397                                                       0        \n",
       "1398                                              1081135135        \n",
       "1399                                                       0        \n",
       "\n",
       "دوره مالی  سپرده های سرمایه گذاری مدت دار  جمع بدهیهای جاری و غیر جاری  \\\n",
       "1395                            769176731                   1158183302   \n",
       "1396                            885940180                   1388019870   \n",
       "1397                           1039572033                   1783903912   \n",
       "1398                           1292527960                   2373663095   \n",
       "1399                           1982133432                   3632548983   \n",
       "\n",
       "دوره مالی  جمع بدهیها و حقوق صاحبان سهام   sal  \n",
       "1395                          1202595668  1395  \n",
       "1396                          1345745625  1396  \n",
       "1397                          1918279845  1397  \n",
       "1398                          2482112323  1398  \n",
       "1399                          3894476476  1399  \n",
       "\n",
       "[5 rows x 40 columns]"
      ]
     },
     "execution_count": 527,
     "metadata": {},
     "output_type": "execute_result"
    }
   ],
   "source": [
    "a"
   ]
  },
  {
   "cell_type": "code",
   "execution_count": 553,
   "metadata": {},
   "outputs": [
    {
     "data": {
      "text/plain": [
       "<matplotlib.axes._subplots.AxesSubplot at 0x20ce5834648>"
      ]
     },
     "execution_count": 553,
     "metadata": {},
     "output_type": "execute_result"
    },
    {
     "data": {
      "image/png": "[encoded data removed]",
      "text/plain": [
       "<Figure size 432x288 with 1 Axes>"
      ]
     },
     "metadata": {
      "needs_background": "light"
     },
     "output_type": "display_data"
    }
   ],
   "source": [
    "a['داراییهای ثابت مشهود'].plot()\n"
   ]
  },
  {
   "cell_type": "code",
   "execution_count": 556,
   "metadata": {},
   "outputs": [
    {
     "data": {
      "text/plain": [
       "<matplotlib.axes._subplots.AxesSubplot at 0x20ce360ad08>"
      ]
     },
     "execution_count": 556,
     "metadata": {},
     "output_type": "execute_result"
    },
    {
     "data": {
      "image/png": "[encoded data removed]",
      "text/plain": [
       "<Figure size 432x288 with 1 Axes>"
      ]
     },
     "metadata": {
      "needs_background": "light"
     },
     "output_type": "display_data"
    }
   ],
   "source": [
    "a['داراییهای نامشهود'].plot()\n"
   ]
  },
  {
   "cell_type": "code",
   "execution_count": 557,
   "metadata": {},
   "outputs": [
    {
     "data": {
      "text/plain": [
       "<matplotlib.axes._subplots.AxesSubplot at 0x20ce362f5c8>"
      ]
     },
     "execution_count": 557,
     "metadata": {},
     "output_type": "execute_result"
    },
    {
     "data": {
      "image/png": "[encoded data removed]",
      "text/plain": [
       "<Figure size 432x288 with 1 Axes>"
      ]
     },
     "metadata": {
      "needs_background": "light"
     },
     "output_type": "display_data"
    }
   ],
   "source": [
    "a['سپرده های مشتریان'].plot()"
   ]
  },
  {
   "cell_type": "code",
   "execution_count": 530,
   "metadata": {},
   "outputs": [
    {
     "data": {
      "text/html": [
       "<div>\n",
       "<style scoped>\n",
       "    .dataframe tbody tr th:only-of-type {\n",
       "        vertical-align: middle;\n",
       "    }\n",
       "\n",
       "    .dataframe tbody tr th {\n",
       "        vertical-align: top;\n",
       "    }\n",
       "\n",
       "    .dataframe thead th {\n",
       "        text-align: right;\n",
       "    }\n",
       "</style>\n",
       "<table border=\"1\" class=\"dataframe\">\n",
       "  <thead>\n",
       "    <tr style=\"text-align: right;\">\n",
       "      <th></th>\n",
       "      <th>1395</th>\n",
       "      <th>1396</th>\n",
       "      <th>1397</th>\n",
       "      <th>1398</th>\n",
       "      <th>1399</th>\n",
       "    </tr>\n",
       "  </thead>\n",
       "  <tbody>\n",
       "    <tr>\n",
       "      <th>سرمایه</th>\n",
       "      <td>45700000</td>\n",
       "      <td>45700000</td>\n",
       "      <td>223926127</td>\n",
       "      <td>223926127</td>\n",
       "      <td>223926127</td>\n",
       "    </tr>\n",
       "    <tr>\n",
       "      <th>وجوه دریافتی بابت افزایش سرمایه</th>\n",
       "      <td>0</td>\n",
       "      <td>0</td>\n",
       "      <td>0</td>\n",
       "      <td>0</td>\n",
       "      <td>0</td>\n",
       "    </tr>\n",
       "    <tr>\n",
       "      <th>صرف سهام</th>\n",
       "      <td>0</td>\n",
       "      <td>0</td>\n",
       "      <td>0</td>\n",
       "      <td>0</td>\n",
       "      <td>0</td>\n",
       "    </tr>\n",
       "    <tr>\n",
       "      <th>اندوخته صرف سهام</th>\n",
       "      <td>0</td>\n",
       "      <td>0</td>\n",
       "      <td>0</td>\n",
       "      <td>0</td>\n",
       "      <td>0</td>\n",
       "    </tr>\n",
       "    <tr>\n",
       "      <th>اندوخته قانونی</th>\n",
       "      <td>7089102</td>\n",
       "      <td>7089102</td>\n",
       "      <td>7089102</td>\n",
       "      <td>7089102</td>\n",
       "      <td>8184143</td>\n",
       "    </tr>\n",
       "    <tr>\n",
       "      <th>سایر اندوخته ها</th>\n",
       "      <td>4724044</td>\n",
       "      <td>4724044</td>\n",
       "      <td>4724044</td>\n",
       "      <td>4724044</td>\n",
       "      <td>5454071</td>\n",
       "    </tr>\n",
       "    <tr>\n",
       "      <th>مازاد تجدید ارزیابی داراییها</th>\n",
       "      <td>0</td>\n",
       "      <td>0</td>\n",
       "      <td>0</td>\n",
       "      <td>0</td>\n",
       "      <td>0</td>\n",
       "    </tr>\n",
       "    <tr>\n",
       "      <th>تفاوت تسعیر ناشی از تبدیل واحد پول گزارشگری</th>\n",
       "      <td>3098687</td>\n",
       "      <td>4204239</td>\n",
       "      <td>8149600</td>\n",
       "      <td>9908890</td>\n",
       "      <td>0</td>\n",
       "    </tr>\n",
       "    <tr>\n",
       "      <th>سود (زیان) انباشته</th>\n",
       "      <td>-16199467</td>\n",
       "      <td>-103991630</td>\n",
       "      <td>-109512940</td>\n",
       "      <td>-137198935</td>\n",
       "      <td>5475206</td>\n",
       "    </tr>\n",
       "    <tr>\n",
       "      <th>سهام خزانه</th>\n",
       "      <td>0</td>\n",
       "      <td>0</td>\n",
       "      <td>0</td>\n",
       "      <td>0</td>\n",
       "      <td>0</td>\n",
       "    </tr>\n",
       "  </tbody>\n",
       "</table>\n",
       "</div>"
      ],
      "text/plain": [
       "                                                 1395       1396       1397  \\\n",
       "سرمایه                                       45700000   45700000  223926127   \n",
       "وجوه دریافتی بابت افزایش سرمایه                     0          0          0   \n",
       "صرف سهام                                            0          0          0   \n",
       "اندوخته صرف سهام                                    0          0          0   \n",
       "اندوخته قانونی                                7089102    7089102    7089102   \n",
       "سایر اندوخته ها                               4724044    4724044    4724044   \n",
       "مازاد تجدید ارزیابی داراییها                        0          0          0   \n",
       "تفاوت تسعیر ناشی از تبدیل واحد پول گزارشگری   3098687    4204239    8149600   \n",
       "سود (زیان) انباشته                          -16199467 -103991630 -109512940   \n",
       "سهام خزانه                                          0          0          0   \n",
       "\n",
       "                                                  1398       1399  \n",
       "سرمایه                                       223926127  223926127  \n",
       "وجوه دریافتی بابت افزایش سرمایه                      0          0  \n",
       "صرف سهام                                             0          0  \n",
       "اندوخته صرف سهام                                     0          0  \n",
       "اندوخته قانونی                                 7089102    8184143  \n",
       "سایر اندوخته ها                                4724044    5454071  \n",
       "مازاد تجدید ارزیابی داراییها                         0          0  \n",
       "تفاوت تسعیر ناشی از تبدیل واحد پول گزارشگری    9908890          0  \n",
       "سود (زیان) انباشته                          -137198935    5475206  \n",
       "سهام خزانه                                           0          0  "
      ]
     },
     "execution_count": 530,
     "metadata": {},
     "output_type": "execute_result"
    }
   ],
   "source": [
    "saham = pd.DataFrame()\n",
    "for i in saheban:\n",
    "    saham[i]=a[i]\n",
    "saham=saham.T\n",
    "saham"
   ]
  },
  {
   "cell_type": "code",
   "execution_count": 531,
   "metadata": {},
   "outputs": [
    {
     "data": {
      "text/html": [
       "<div>\n",
       "<style scoped>\n",
       "    .dataframe tbody tr th:only-of-type {\n",
       "        vertical-align: middle;\n",
       "    }\n",
       "\n",
       "    .dataframe tbody tr th {\n",
       "        vertical-align: top;\n",
       "    }\n",
       "\n",
       "    .dataframe thead th {\n",
       "        text-align: right;\n",
       "    }\n",
       "</style>\n",
       "<table border=\"1\" class=\"dataframe\">\n",
       "  <thead>\n",
       "    <tr style=\"text-align: right;\">\n",
       "      <th></th>\n",
       "      <th>CAT_BB</th>\n",
       "      <th>Deposit</th>\n",
       "      <th>CAT_BB/Total Deposit</th>\n",
       "      <th>MAT_BB</th>\n",
       "      <th>EQUITY</th>\n",
       "    </tr>\n",
       "    <tr>\n",
       "      <th>year</th>\n",
       "      <th></th>\n",
       "      <th></th>\n",
       "      <th></th>\n",
       "      <th></th>\n",
       "      <th></th>\n",
       "    </tr>\n",
       "  </thead>\n",
       "  <tbody>\n",
       "    <tr>\n",
       "      <th>1395</th>\n",
       "      <td>128772185.5</td>\n",
       "      <td>187948887</td>\n",
       "      <td>0.685145</td>\n",
       "      <td>4.194324e+08</td>\n",
       "      <td>45700000</td>\n",
       "    </tr>\n",
       "    <tr>\n",
       "      <th>1396</th>\n",
       "      <td>125293019.5</td>\n",
       "      <td>223007085</td>\n",
       "      <td>0.561834</td>\n",
       "      <td>4.794807e+08</td>\n",
       "      <td>45700000</td>\n",
       "    </tr>\n",
       "    <tr>\n",
       "      <th>1397</th>\n",
       "      <td>224970454.5</td>\n",
       "      <td>389306586</td>\n",
       "      <td>0.577875</td>\n",
       "      <td>5.891756e+08</td>\n",
       "      <td>223926127</td>\n",
       "    </tr>\n",
       "    <tr>\n",
       "      <th>1398</th>\n",
       "      <td>714111566.5</td>\n",
       "      <td>690120132</td>\n",
       "      <td>1.034764</td>\n",
       "      <td>1.166673e+09</td>\n",
       "      <td>223926127</td>\n",
       "    </tr>\n",
       "    <tr>\n",
       "      <th>1399</th>\n",
       "      <td>422533143.0</td>\n",
       "      <td>1125884052</td>\n",
       "      <td>0.375290</td>\n",
       "      <td>7.757688e+08</td>\n",
       "      <td>223926127</td>\n",
       "    </tr>\n",
       "  </tbody>\n",
       "</table>\n",
       "</div>"
      ],
      "text/plain": [
       "           CAT_BB     Deposit  CAT_BB/Total Deposit        MAT_BB     EQUITY\n",
       "year                                                                        \n",
       "1395  128772185.5   187948887              0.685145  4.194324e+08   45700000\n",
       "1396  125293019.5   223007085              0.561834  4.794807e+08   45700000\n",
       "1397  224970454.5   389306586              0.577875  5.891756e+08  223926127\n",
       "1398  714111566.5   690120132              1.034764  1.166673e+09  223926127\n",
       "1399  422533143.0  1125884052              0.375290  7.757688e+08  223926127"
      ]
     },
     "execution_count": 531,
     "metadata": {},
     "output_type": "execute_result"
    }
   ],
   "source": [
    "bb['EQUITY']=a['سرمایه']\n",
    "bb"
   ]
  },
  {
   "cell_type": "code",
   "execution_count": 532,
   "metadata": {},
   "outputs": [
    {
     "data": {
      "text/html": [
       "<div>\n",
       "<style scoped>\n",
       "    .dataframe tbody tr th:only-of-type {\n",
       "        vertical-align: middle;\n",
       "    }\n",
       "\n",
       "    .dataframe tbody tr th {\n",
       "        vertical-align: top;\n",
       "    }\n",
       "\n",
       "    .dataframe thead th {\n",
       "        text-align: right;\n",
       "    }\n",
       "</style>\n",
       "<table border=\"1\" class=\"dataframe\">\n",
       "  <thead>\n",
       "    <tr style=\"text-align: right;\">\n",
       "      <th></th>\n",
       "      <th>CAT_BB</th>\n",
       "      <th>Deposit</th>\n",
       "      <th>CAT_BB/Total Deposit</th>\n",
       "      <th>MAT_BB</th>\n",
       "      <th>EQUITY</th>\n",
       "      <th>CAT_BB/EQUITY</th>\n",
       "    </tr>\n",
       "    <tr>\n",
       "      <th>year</th>\n",
       "      <th></th>\n",
       "      <th></th>\n",
       "      <th></th>\n",
       "      <th></th>\n",
       "      <th></th>\n",
       "      <th></th>\n",
       "    </tr>\n",
       "  </thead>\n",
       "  <tbody>\n",
       "    <tr>\n",
       "      <th>1395</th>\n",
       "      <td>128772185.5</td>\n",
       "      <td>187948887</td>\n",
       "      <td>0.685145</td>\n",
       "      <td>4.194324e+08</td>\n",
       "      <td>45700000</td>\n",
       "      <td>2.817772</td>\n",
       "    </tr>\n",
       "    <tr>\n",
       "      <th>1396</th>\n",
       "      <td>125293019.5</td>\n",
       "      <td>223007085</td>\n",
       "      <td>0.561834</td>\n",
       "      <td>4.794807e+08</td>\n",
       "      <td>45700000</td>\n",
       "      <td>2.741642</td>\n",
       "    </tr>\n",
       "    <tr>\n",
       "      <th>1397</th>\n",
       "      <td>224970454.5</td>\n",
       "      <td>389306586</td>\n",
       "      <td>0.577875</td>\n",
       "      <td>5.891756e+08</td>\n",
       "      <td>223926127</td>\n",
       "      <td>1.004664</td>\n",
       "    </tr>\n",
       "    <tr>\n",
       "      <th>1398</th>\n",
       "      <td>714111566.5</td>\n",
       "      <td>690120132</td>\n",
       "      <td>1.034764</td>\n",
       "      <td>1.166673e+09</td>\n",
       "      <td>223926127</td>\n",
       "      <td>3.189050</td>\n",
       "    </tr>\n",
       "    <tr>\n",
       "      <th>1399</th>\n",
       "      <td>422533143.0</td>\n",
       "      <td>1125884052</td>\n",
       "      <td>0.375290</td>\n",
       "      <td>7.757688e+08</td>\n",
       "      <td>223926127</td>\n",
       "      <td>1.886931</td>\n",
       "    </tr>\n",
       "  </tbody>\n",
       "</table>\n",
       "</div>"
      ],
      "text/plain": [
       "           CAT_BB     Deposit  CAT_BB/Total Deposit        MAT_BB     EQUITY  \\\n",
       "year                                                                           \n",
       "1395  128772185.5   187948887              0.685145  4.194324e+08   45700000   \n",
       "1396  125293019.5   223007085              0.561834  4.794807e+08   45700000   \n",
       "1397  224970454.5   389306586              0.577875  5.891756e+08  223926127   \n",
       "1398  714111566.5   690120132              1.034764  1.166673e+09  223926127   \n",
       "1399  422533143.0  1125884052              0.375290  7.757688e+08  223926127   \n",
       "\n",
       "      CAT_BB/EQUITY  \n",
       "year                 \n",
       "1395       2.817772  \n",
       "1396       2.741642  \n",
       "1397       1.004664  \n",
       "1398       3.189050  \n",
       "1399       1.886931  "
      ]
     },
     "execution_count": 532,
     "metadata": {},
     "output_type": "execute_result"
    }
   ],
   "source": [
    "bb['CAT_BB/EQUITY']=bb['CAT_BB']/bb['EQUITY']\n",
    "bb"
   ]
  },
  {
   "cell_type": "code",
   "execution_count": 533,
   "metadata": {},
   "outputs": [
    {
     "data": {
      "text/html": [
       "<div>\n",
       "<style scoped>\n",
       "    .dataframe tbody tr th:only-of-type {\n",
       "        vertical-align: middle;\n",
       "    }\n",
       "\n",
       "    .dataframe tbody tr th {\n",
       "        vertical-align: top;\n",
       "    }\n",
       "\n",
       "    .dataframe thead th {\n",
       "        text-align: right;\n",
       "    }\n",
       "</style>\n",
       "<table border=\"1\" class=\"dataframe\">\n",
       "  <thead>\n",
       "    <tr style=\"text-align: right;\">\n",
       "      <th></th>\n",
       "      <th>CAT_BB</th>\n",
       "      <th>Deposit</th>\n",
       "      <th>CAT_BB/Total Deposit</th>\n",
       "      <th>MAT_BB</th>\n",
       "      <th>EQUITY</th>\n",
       "      <th>CAT_BB/EQUITY</th>\n",
       "      <th>TOTAL ASSET</th>\n",
       "      <th>CAT_BB/TOTAL ASSET</th>\n",
       "    </tr>\n",
       "    <tr>\n",
       "      <th>year</th>\n",
       "      <th></th>\n",
       "      <th></th>\n",
       "      <th></th>\n",
       "      <th></th>\n",
       "      <th></th>\n",
       "      <th></th>\n",
       "      <th></th>\n",
       "      <th></th>\n",
       "    </tr>\n",
       "  </thead>\n",
       "  <tbody>\n",
       "    <tr>\n",
       "      <th>1395</th>\n",
       "      <td>128772185.5</td>\n",
       "      <td>187948887</td>\n",
       "      <td>0.685145</td>\n",
       "      <td>4.194324e+08</td>\n",
       "      <td>45700000</td>\n",
       "      <td>2.817772</td>\n",
       "      <td>1085791688</td>\n",
       "      <td>0.118598</td>\n",
       "    </tr>\n",
       "    <tr>\n",
       "      <th>1396</th>\n",
       "      <td>125293019.5</td>\n",
       "      <td>223007085</td>\n",
       "      <td>0.561834</td>\n",
       "      <td>4.794807e+08</td>\n",
       "      <td>45700000</td>\n",
       "      <td>2.741642</td>\n",
       "      <td>1215731968</td>\n",
       "      <td>0.103060</td>\n",
       "    </tr>\n",
       "    <tr>\n",
       "      <th>1397</th>\n",
       "      <td>224970454.5</td>\n",
       "      <td>389306586</td>\n",
       "      <td>0.577875</td>\n",
       "      <td>5.891756e+08</td>\n",
       "      <td>223926127</td>\n",
       "      <td>1.004664</td>\n",
       "      <td>1749189076</td>\n",
       "      <td>0.128614</td>\n",
       "    </tr>\n",
       "    <tr>\n",
       "      <th>1398</th>\n",
       "      <td>714111566.5</td>\n",
       "      <td>690120132</td>\n",
       "      <td>1.034764</td>\n",
       "      <td>1.166673e+09</td>\n",
       "      <td>223926127</td>\n",
       "      <td>3.189050</td>\n",
       "      <td>2482112323</td>\n",
       "      <td>0.287703</td>\n",
       "    </tr>\n",
       "    <tr>\n",
       "      <th>1399</th>\n",
       "      <td>422533143.0</td>\n",
       "      <td>1125884052</td>\n",
       "      <td>0.375290</td>\n",
       "      <td>7.757688e+08</td>\n",
       "      <td>223926127</td>\n",
       "      <td>1.886931</td>\n",
       "      <td>3894476476</td>\n",
       "      <td>0.108495</td>\n",
       "    </tr>\n",
       "  </tbody>\n",
       "</table>\n",
       "</div>"
      ],
      "text/plain": [
       "           CAT_BB     Deposit  CAT_BB/Total Deposit        MAT_BB     EQUITY  \\\n",
       "year                                                                           \n",
       "1395  128772185.5   187948887              0.685145  4.194324e+08   45700000   \n",
       "1396  125293019.5   223007085              0.561834  4.794807e+08   45700000   \n",
       "1397  224970454.5   389306586              0.577875  5.891756e+08  223926127   \n",
       "1398  714111566.5   690120132              1.034764  1.166673e+09  223926127   \n",
       "1399  422533143.0  1125884052              0.375290  7.757688e+08  223926127   \n",
       "\n",
       "      CAT_BB/EQUITY  TOTAL ASSET  CAT_BB/TOTAL ASSET  \n",
       "year                                                  \n",
       "1395       2.817772   1085791688            0.118598  \n",
       "1396       2.741642   1215731968            0.103060  \n",
       "1397       1.004664   1749189076            0.128614  \n",
       "1398       3.189050   2482112323            0.287703  \n",
       "1399       1.886931   3894476476            0.108495  "
      ]
     },
     "execution_count": 533,
     "metadata": {},
     "output_type": "execute_result"
    }
   ],
   "source": [
    "bb['TOTAL ASSET']=ratio['t.asset']\n",
    "bb['CAT_BB/TOTAL ASSET']=bb['CAT_BB']/bb['TOTAL ASSET']\n",
    "bb"
   ]
  },
  {
   "cell_type": "code",
   "execution_count": 542,
   "metadata": {},
   "outputs": [
    {
     "data": {
      "text/html": [
       "<div>\n",
       "<style scoped>\n",
       "    .dataframe tbody tr th:only-of-type {\n",
       "        vertical-align: middle;\n",
       "    }\n",
       "\n",
       "    .dataframe tbody tr th {\n",
       "        vertical-align: top;\n",
       "    }\n",
       "\n",
       "    .dataframe thead th {\n",
       "        text-align: right;\n",
       "    }\n",
       "</style>\n",
       "<table border=\"1\" class=\"dataframe\">\n",
       "  <thead>\n",
       "    <tr style=\"text-align: right;\">\n",
       "      <th></th>\n",
       "      <th>LT gap</th>\n",
       "    </tr>\n",
       "    <tr>\n",
       "      <th>year</th>\n",
       "      <th></th>\n",
       "    </tr>\n",
       "  </thead>\n",
       "  <tbody>\n",
       "    <tr>\n",
       "      <th>1395</th>\n",
       "      <td>0.318461</td>\n",
       "    </tr>\n",
       "    <tr>\n",
       "      <th>1396</th>\n",
       "      <td>0.284423</td>\n",
       "    </tr>\n",
       "    <tr>\n",
       "      <th>1397</th>\n",
       "      <td>0.197681</td>\n",
       "    </tr>\n",
       "    <tr>\n",
       "      <th>1398</th>\n",
       "      <td>0.139310</td>\n",
       "    </tr>\n",
       "    <tr>\n",
       "      <th>1399</th>\n",
       "      <td>0.088788</td>\n",
       "    </tr>\n",
       "  </tbody>\n",
       "</table>\n",
       "</div>"
      ],
      "text/plain": [
       "        LT gap\n",
       "year          \n",
       "1395  0.318461\n",
       "1396  0.284423\n",
       "1397  0.197681\n",
       "1398  0.139310\n",
       "1399  0.088788"
      ]
     },
     "execution_count": 542,
     "metadata": {},
     "output_type": "execute_result"
    }
   ],
   "source": [
    "lq=((sld-sla)/bb['TOTAL ASSET'])\n",
    "LQ=pd.DataFrame()\n",
    "LQ['LT gap']=lq\n",
    "LQ"
   ]
  },
  {
   "cell_type": "code",
   "execution_count": 560,
   "metadata": {},
   "outputs": [
    {
     "data": {
      "text/plain": [
       "3188300134"
      ]
     },
     "execution_count": 560,
     "metadata": {},
     "output_type": "execute_result"
    }
   ],
   "source": [
    "sld"
   ]
  },
  {
   "cell_type": "code",
   "execution_count": 558,
   "metadata": {},
   "outputs": [
    {
     "data": {
      "image/png": "[encoded data removed]",
      "text/plain": [
       "<Figure size 432x288 with 1 Axes>"
      ]
     },
     "metadata": {
      "needs_background": "light"
     },
     "output_type": "display_data"
    }
   ],
   "source": [
    "X=bb.index\n",
    "Y=LQ['LT gap']\n",
    "plt.plot(X,Y)\n",
    "plt.xlabel('year')\n",
    "plt.ylabel('LT gap')\n",
    "plt.title('Liquidity provision for Tejarat bank')\n",
    "plt.show()"
   ]
  },
  {
   "cell_type": "code",
   "execution_count": 559,
   "metadata": {},
   "outputs": [
    {
     "data": {
      "image/png": "[encoded data removed]",
      "text/plain": [
       "<Figure size 432x288 with 1 Axes>"
      ]
     },
     "metadata": {
      "needs_background": "light"
     },
     "output_type": "display_data"
    }
   ],
   "source": [
    "\n",
    "X=bb.index\n",
    "Y=bb['CAT_BB/TOTAL ASSET']\n",
    "plt.plot(X,Y)\n",
    "plt.xlabel('year')\n",
    "plt.ylabel('CAT_BB/TOTAL ASSET')\n",
    "plt.title('Liquidity provision for Tejarat bank')\n",
    "plt.show()"
   ]
  },
  {
   "cell_type": "code",
   "execution_count": 571,
   "metadata": {},
   "outputs": [
    {
     "data": {
      "text/plain": [
       "<matplotlib.axes._subplots.AxesSubplot at 0x20ce3a72f88>"
      ]
     },
     "execution_count": 571,
     "metadata": {},
     "output_type": "execute_result"
    },
    {
     "data": {
      "image/png": "[encoded data removed]",
      "text/plain": [
       "<Figure size 432x288 with 1 Axes>"
      ]
     },
     "metadata": {
      "needs_background": "light"
     },
     "output_type": "display_data"
    }
   ],
   "source": [
    "liii['sum_liq_a'].plot()"
   ]
  },
  {
   "cell_type": "code",
   "execution_count": 572,
   "metadata": {},
   "outputs": [
    {
     "data": {
      "text/plain": [
       "<matplotlib.axes._subplots.AxesSubplot at 0x20ce4a83948>"
      ]
     },
     "execution_count": 572,
     "metadata": {},
     "output_type": "execute_result"
    },
    {
     "data": {
      "image/png": "[encoded data removed]",
      "text/plain": [
       "<Figure size 432x288 with 1 Axes>"
      ]
     },
     "metadata": {
      "needs_background": "light"
     },
     "output_type": "display_data"
    }
   ],
   "source": [
    "liii['sum_liq_d'].plot()"
   ]
  }
 ],
 "metadata": {
  "kernelspec": {
   "display_name": "Python 3",
   "language": "python",
   "name": "python3"
  },
  "language_info": {
   "codemirror_mode": {
    "name": "ipython",
    "version": 3
   },
   "file_extension": ".py",
   "mimetype": "text/x-python",
   "name": "python",
   "nbconvert_exporter": "python",
   "pygments_lexer": "ipython3",
   "version": "3.7.6"
  }
 },
 "nbformat": 4,
 "nbformat_minor": 4
}
